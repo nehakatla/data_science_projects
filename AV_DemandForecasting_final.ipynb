{
  "nbformat": 4,
  "nbformat_minor": 0,
  "metadata": {
    "colab": {
      "name": "AV_DemandForecasting_final.ipynb",
      "provenance": [],
      "collapsed_sections": [],
      "toc_visible": true
    },
    "kernelspec": {
      "display_name": "Python 3",
      "language": "python",
      "name": "python3"
    },
    "language_info": {
      "codemirror_mode": {
        "name": "ipython",
        "version": 3
      },
      "file_extension": ".py",
      "mimetype": "text/x-python",
      "name": "python",
      "nbconvert_exporter": "python",
      "pygments_lexer": "ipython3",
      "version": "3.7.3"
    }
  },
  "cells": [
    {
      "cell_type": "code",
      "metadata": {
        "id": "2BXrZRpSc84i",
        "colab_type": "code",
        "colab": {
          "base_uri": "https://localhost:8080/",
          "height": 306
        },
        "outputId": "234b6c56-08be-4f34-d1b8-0c769f7c4d53"
      },
      "source": [
        "!pip install category_encoders\n",
        "!pip install bayesian-optimization"
      ],
      "execution_count": 1,
      "outputs": [
        {
          "output_type": "stream",
          "text": [
            "Requirement already satisfied: category_encoders in /usr/local/lib/python3.6/dist-packages (2.2.2)\n",
            "Requirement already satisfied: pandas>=0.21.1 in /usr/local/lib/python3.6/dist-packages (from category_encoders) (1.0.5)\n",
            "Requirement already satisfied: scipy>=1.0.0 in /usr/local/lib/python3.6/dist-packages (from category_encoders) (1.4.1)\n",
            "Requirement already satisfied: patsy>=0.5.1 in /usr/local/lib/python3.6/dist-packages (from category_encoders) (0.5.1)\n",
            "Requirement already satisfied: statsmodels>=0.9.0 in /usr/local/lib/python3.6/dist-packages (from category_encoders) (0.10.2)\n",
            "Requirement already satisfied: numpy>=1.14.0 in /usr/local/lib/python3.6/dist-packages (from category_encoders) (1.18.5)\n",
            "Requirement already satisfied: scikit-learn>=0.20.0 in /usr/local/lib/python3.6/dist-packages (from category_encoders) (0.22.2.post1)\n",
            "Requirement already satisfied: python-dateutil>=2.6.1 in /usr/local/lib/python3.6/dist-packages (from pandas>=0.21.1->category_encoders) (2.8.1)\n",
            "Requirement already satisfied: pytz>=2017.2 in /usr/local/lib/python3.6/dist-packages (from pandas>=0.21.1->category_encoders) (2018.9)\n",
            "Requirement already satisfied: six in /usr/local/lib/python3.6/dist-packages (from patsy>=0.5.1->category_encoders) (1.12.0)\n",
            "Requirement already satisfied: joblib>=0.11 in /usr/local/lib/python3.6/dist-packages (from scikit-learn>=0.20.0->category_encoders) (0.15.1)\n",
            "Requirement already satisfied: bayesian-optimization in /usr/local/lib/python3.6/dist-packages (1.2.0)\n",
            "Requirement already satisfied: scikit-learn>=0.18.0 in /usr/local/lib/python3.6/dist-packages (from bayesian-optimization) (0.22.2.post1)\n",
            "Requirement already satisfied: numpy>=1.9.0 in /usr/local/lib/python3.6/dist-packages (from bayesian-optimization) (1.18.5)\n",
            "Requirement already satisfied: scipy>=0.14.0 in /usr/local/lib/python3.6/dist-packages (from bayesian-optimization) (1.4.1)\n",
            "Requirement already satisfied: joblib>=0.11 in /usr/local/lib/python3.6/dist-packages (from scikit-learn>=0.18.0->bayesian-optimization) (0.15.1)\n"
          ],
          "name": "stdout"
        }
      ]
    },
    {
      "cell_type": "code",
      "metadata": {
        "colab_type": "code",
        "id": "5R_RGNsRJfSL",
        "colab": {
          "base_uri": "https://localhost:8080/",
          "height": 70
        },
        "outputId": "1e2d6e5c-5344-4215-de79-fa0bd1273bee"
      },
      "source": [
        "import pandas as pd\n",
        "import numpy as np\n",
        "import matplotlib.pyplot as plt\n",
        "import seaborn as sns\n",
        "import warnings \n",
        "\n",
        "from sklearn.metrics import mean_squared_error,mean_squared_log_error\n",
        "from sklearn.model_selection import train_test_split,KFold,StratifiedKFold,GridSearchCV,RandomizedSearchCV,cross_val_score,RepeatedKFold\n",
        "from sklearn.preprocessing import StandardScaler,MinMaxScaler,Normalizer,RobustScaler\n",
        "from sklearn.preprocessing import LabelEncoder\n",
        "from sklearn.preprocessing import PolynomialFeatures\n",
        "\n",
        "import xgboost as xgb\n",
        "import lightgbm as lgb\n",
        "import sklearn.ensemble as ensemble\n",
        "import sklearn.metrics as metrics\n",
        "from sklearn.ensemble import RandomForestClassifier,BaggingClassifier,AdaBoostClassifier,GradientBoostingClassifier,RandomForestRegressor,BaggingRegressor,AdaBoostRegressor,GradientBoostingRegressor\n",
        "from sklearn.linear_model import LinearRegression,LogisticRegression,Lasso, Ridge,LogisticRegressionCV,RidgeCV,LassoCV,ElasticNetCV,OrthogonalMatchingPursuit,ElasticNet,LassoLarsCV,BayesianRidge\n",
        "from sklearn.tree import DecisionTreeClassifier,DecisionTreeRegressor\n",
        "from sklearn.naive_bayes import GaussianNB\n",
        "from sklearn.neighbors import KNeighborsClassifier,KNeighborsRegressor\n",
        "from sklearn.pipeline import Pipeline\n",
        "from sklearn.svm import SVC,SVR\n",
        "from scipy import stats\n",
        "from scipy.stats import norm, skew\n",
        "from sklearn.decomposition import PCA\n",
        "from sklearn.discriminant_analysis import LinearDiscriminantAnalysis\n",
        "from sklearn.pipeline import make_pipeline\n",
        "from sklearn.kernel_ridge import KernelRidge\n",
        "\n",
        "\n",
        "from category_encoders.ordinal import OrdinalEncoder\n",
        "from category_encoders.woe import WOEEncoder\n",
        "from category_encoders.target_encoder import TargetEncoder\n",
        "from category_encoders.sum_coding import SumEncoder\n",
        "from category_encoders.m_estimate import MEstimateEncoder\n",
        "from category_encoders.leave_one_out import LeaveOneOutEncoder\n",
        "from category_encoders.helmert import HelmertEncoder\n",
        "from category_encoders.cat_boost import CatBoostEncoder\n",
        "from category_encoders.james_stein import JamesSteinEncoder\n",
        "from category_encoders.one_hot import OneHotEncoder\n",
        "from scipy.special import boxcox1p\n",
        "from bayes_opt import BayesianOptimization"
      ],
      "execution_count": 2,
      "outputs": [
        {
          "output_type": "stream",
          "text": [
            "/usr/local/lib/python3.6/dist-packages/statsmodels/tools/_testing.py:19: FutureWarning: pandas.util.testing is deprecated. Use the functions in the public API at pandas.testing instead.\n",
            "  import pandas.util.testing as tm\n"
          ],
          "name": "stderr"
        }
      ]
    },
    {
      "cell_type": "code",
      "metadata": {
        "id": "Wll2BKOrc1mB",
        "colab_type": "code",
        "colab": {}
      },
      "source": [
        "warnings.filterwarnings('ignore')"
      ],
      "execution_count": 3,
      "outputs": []
    },
    {
      "cell_type": "code",
      "metadata": {
        "colab_type": "code",
        "id": "1X9YoIpEKcHN",
        "colab": {}
      },
      "source": [
        "train=pd.read_csv('train.csv')\n",
        "test=pd.read_csv('test.csv')\n",
        "submission=pd.read_csv('sample_submission.csv')"
      ],
      "execution_count": 5,
      "outputs": []
    },
    {
      "cell_type": "code",
      "metadata": {
        "colab_type": "code",
        "id": "Owiy69xcK29K",
        "colab": {
          "base_uri": "https://localhost:8080/",
          "height": 195
        },
        "outputId": "8e339ee2-ec96-449e-8166-aa5a64bdcf0c"
      },
      "source": [
        "train.head()"
      ],
      "execution_count": 6,
      "outputs": [
        {
          "output_type": "execute_result",
          "data": {
            "text/html": [
              "<div>\n",
              "<style scoped>\n",
              "    .dataframe tbody tr th:only-of-type {\n",
              "        vertical-align: middle;\n",
              "    }\n",
              "\n",
              "    .dataframe tbody tr th {\n",
              "        vertical-align: top;\n",
              "    }\n",
              "\n",
              "    .dataframe thead th {\n",
              "        text-align: right;\n",
              "    }\n",
              "</style>\n",
              "<table border=\"1\" class=\"dataframe\">\n",
              "  <thead>\n",
              "    <tr style=\"text-align: right;\">\n",
              "      <th></th>\n",
              "      <th>record_ID</th>\n",
              "      <th>week</th>\n",
              "      <th>store_id</th>\n",
              "      <th>sku_id</th>\n",
              "      <th>total_price</th>\n",
              "      <th>base_price</th>\n",
              "      <th>is_featured_sku</th>\n",
              "      <th>is_display_sku</th>\n",
              "      <th>units_sold</th>\n",
              "    </tr>\n",
              "  </thead>\n",
              "  <tbody>\n",
              "    <tr>\n",
              "      <th>0</th>\n",
              "      <td>1</td>\n",
              "      <td>17/01/11</td>\n",
              "      <td>8091</td>\n",
              "      <td>216418</td>\n",
              "      <td>99.0375</td>\n",
              "      <td>111.8625</td>\n",
              "      <td>0</td>\n",
              "      <td>0</td>\n",
              "      <td>20</td>\n",
              "    </tr>\n",
              "    <tr>\n",
              "      <th>1</th>\n",
              "      <td>2</td>\n",
              "      <td>17/01/11</td>\n",
              "      <td>8091</td>\n",
              "      <td>216419</td>\n",
              "      <td>99.0375</td>\n",
              "      <td>99.0375</td>\n",
              "      <td>0</td>\n",
              "      <td>0</td>\n",
              "      <td>28</td>\n",
              "    </tr>\n",
              "    <tr>\n",
              "      <th>2</th>\n",
              "      <td>3</td>\n",
              "      <td>17/01/11</td>\n",
              "      <td>8091</td>\n",
              "      <td>216425</td>\n",
              "      <td>133.9500</td>\n",
              "      <td>133.9500</td>\n",
              "      <td>0</td>\n",
              "      <td>0</td>\n",
              "      <td>19</td>\n",
              "    </tr>\n",
              "    <tr>\n",
              "      <th>3</th>\n",
              "      <td>4</td>\n",
              "      <td>17/01/11</td>\n",
              "      <td>8091</td>\n",
              "      <td>216233</td>\n",
              "      <td>133.9500</td>\n",
              "      <td>133.9500</td>\n",
              "      <td>0</td>\n",
              "      <td>0</td>\n",
              "      <td>44</td>\n",
              "    </tr>\n",
              "    <tr>\n",
              "      <th>4</th>\n",
              "      <td>5</td>\n",
              "      <td>17/01/11</td>\n",
              "      <td>8091</td>\n",
              "      <td>217390</td>\n",
              "      <td>141.0750</td>\n",
              "      <td>141.0750</td>\n",
              "      <td>0</td>\n",
              "      <td>0</td>\n",
              "      <td>52</td>\n",
              "    </tr>\n",
              "  </tbody>\n",
              "</table>\n",
              "</div>"
            ],
            "text/plain": [
              "   record_ID      week  store_id  ...  is_featured_sku  is_display_sku  units_sold\n",
              "0          1  17/01/11      8091  ...                0               0          20\n",
              "1          2  17/01/11      8091  ...                0               0          28\n",
              "2          3  17/01/11      8091  ...                0               0          19\n",
              "3          4  17/01/11      8091  ...                0               0          44\n",
              "4          5  17/01/11      8091  ...                0               0          52\n",
              "\n",
              "[5 rows x 9 columns]"
            ]
          },
          "metadata": {
            "tags": []
          },
          "execution_count": 6
        }
      ]
    },
    {
      "cell_type": "code",
      "metadata": {
        "colab_type": "code",
        "id": "wJyx8QR0K45t",
        "colab": {
          "base_uri": "https://localhost:8080/",
          "height": 195
        },
        "outputId": "4b1ee9a3-99fc-4e37-ca99-71137177979e"
      },
      "source": [
        "test.head()"
      ],
      "execution_count": 7,
      "outputs": [
        {
          "output_type": "execute_result",
          "data": {
            "text/html": [
              "<div>\n",
              "<style scoped>\n",
              "    .dataframe tbody tr th:only-of-type {\n",
              "        vertical-align: middle;\n",
              "    }\n",
              "\n",
              "    .dataframe tbody tr th {\n",
              "        vertical-align: top;\n",
              "    }\n",
              "\n",
              "    .dataframe thead th {\n",
              "        text-align: right;\n",
              "    }\n",
              "</style>\n",
              "<table border=\"1\" class=\"dataframe\">\n",
              "  <thead>\n",
              "    <tr style=\"text-align: right;\">\n",
              "      <th></th>\n",
              "      <th>record_ID</th>\n",
              "      <th>week</th>\n",
              "      <th>store_id</th>\n",
              "      <th>sku_id</th>\n",
              "      <th>total_price</th>\n",
              "      <th>base_price</th>\n",
              "      <th>is_featured_sku</th>\n",
              "      <th>is_display_sku</th>\n",
              "    </tr>\n",
              "  </thead>\n",
              "  <tbody>\n",
              "    <tr>\n",
              "      <th>0</th>\n",
              "      <td>212645</td>\n",
              "      <td>16/07/13</td>\n",
              "      <td>8091</td>\n",
              "      <td>216418</td>\n",
              "      <td>108.3000</td>\n",
              "      <td>108.3000</td>\n",
              "      <td>0</td>\n",
              "      <td>0</td>\n",
              "    </tr>\n",
              "    <tr>\n",
              "      <th>1</th>\n",
              "      <td>212646</td>\n",
              "      <td>16/07/13</td>\n",
              "      <td>8091</td>\n",
              "      <td>216419</td>\n",
              "      <td>109.0125</td>\n",
              "      <td>109.0125</td>\n",
              "      <td>0</td>\n",
              "      <td>0</td>\n",
              "    </tr>\n",
              "    <tr>\n",
              "      <th>2</th>\n",
              "      <td>212647</td>\n",
              "      <td>16/07/13</td>\n",
              "      <td>8091</td>\n",
              "      <td>216425</td>\n",
              "      <td>133.9500</td>\n",
              "      <td>133.9500</td>\n",
              "      <td>0</td>\n",
              "      <td>0</td>\n",
              "    </tr>\n",
              "    <tr>\n",
              "      <th>3</th>\n",
              "      <td>212648</td>\n",
              "      <td>16/07/13</td>\n",
              "      <td>8091</td>\n",
              "      <td>216233</td>\n",
              "      <td>133.9500</td>\n",
              "      <td>133.9500</td>\n",
              "      <td>0</td>\n",
              "      <td>0</td>\n",
              "    </tr>\n",
              "    <tr>\n",
              "      <th>4</th>\n",
              "      <td>212649</td>\n",
              "      <td>16/07/13</td>\n",
              "      <td>8091</td>\n",
              "      <td>217390</td>\n",
              "      <td>176.7000</td>\n",
              "      <td>176.7000</td>\n",
              "      <td>0</td>\n",
              "      <td>0</td>\n",
              "    </tr>\n",
              "  </tbody>\n",
              "</table>\n",
              "</div>"
            ],
            "text/plain": [
              "   record_ID      week  store_id  ...  base_price  is_featured_sku  is_display_sku\n",
              "0     212645  16/07/13      8091  ...    108.3000                0               0\n",
              "1     212646  16/07/13      8091  ...    109.0125                0               0\n",
              "2     212647  16/07/13      8091  ...    133.9500                0               0\n",
              "3     212648  16/07/13      8091  ...    133.9500                0               0\n",
              "4     212649  16/07/13      8091  ...    176.7000                0               0\n",
              "\n",
              "[5 rows x 8 columns]"
            ]
          },
          "metadata": {
            "tags": []
          },
          "execution_count": 7
        }
      ]
    },
    {
      "cell_type": "code",
      "metadata": {
        "colab_type": "code",
        "id": "FsxXGfbfK6xA",
        "colab": {
          "base_uri": "https://localhost:8080/",
          "height": 195
        },
        "outputId": "8becda96-53a1-4b11-e29e-f3490593f3e9"
      },
      "source": [
        "submission.head()"
      ],
      "execution_count": 8,
      "outputs": [
        {
          "output_type": "execute_result",
          "data": {
            "text/html": [
              "<div>\n",
              "<style scoped>\n",
              "    .dataframe tbody tr th:only-of-type {\n",
              "        vertical-align: middle;\n",
              "    }\n",
              "\n",
              "    .dataframe tbody tr th {\n",
              "        vertical-align: top;\n",
              "    }\n",
              "\n",
              "    .dataframe thead th {\n",
              "        text-align: right;\n",
              "    }\n",
              "</style>\n",
              "<table border=\"1\" class=\"dataframe\">\n",
              "  <thead>\n",
              "    <tr style=\"text-align: right;\">\n",
              "      <th></th>\n",
              "      <th>record_ID</th>\n",
              "      <th>units_sold</th>\n",
              "    </tr>\n",
              "  </thead>\n",
              "  <tbody>\n",
              "    <tr>\n",
              "      <th>0</th>\n",
              "      <td>212645</td>\n",
              "      <td>0</td>\n",
              "    </tr>\n",
              "    <tr>\n",
              "      <th>1</th>\n",
              "      <td>212646</td>\n",
              "      <td>0</td>\n",
              "    </tr>\n",
              "    <tr>\n",
              "      <th>2</th>\n",
              "      <td>212647</td>\n",
              "      <td>0</td>\n",
              "    </tr>\n",
              "    <tr>\n",
              "      <th>3</th>\n",
              "      <td>212648</td>\n",
              "      <td>0</td>\n",
              "    </tr>\n",
              "    <tr>\n",
              "      <th>4</th>\n",
              "      <td>212649</td>\n",
              "      <td>0</td>\n",
              "    </tr>\n",
              "  </tbody>\n",
              "</table>\n",
              "</div>"
            ],
            "text/plain": [
              "   record_ID  units_sold\n",
              "0     212645           0\n",
              "1     212646           0\n",
              "2     212647           0\n",
              "3     212648           0\n",
              "4     212649           0"
            ]
          },
          "metadata": {
            "tags": []
          },
          "execution_count": 8
        }
      ]
    },
    {
      "cell_type": "code",
      "metadata": {
        "colab_type": "code",
        "id": "m4HxhzOoK-FS",
        "colab": {
          "base_uri": "https://localhost:8080/",
          "height": 284
        },
        "outputId": "87d6a396-1d4f-4d0f-b0c4-03c2f4b8240b"
      },
      "source": [
        "train.describe()"
      ],
      "execution_count": 9,
      "outputs": [
        {
          "output_type": "execute_result",
          "data": {
            "text/html": [
              "<div>\n",
              "<style scoped>\n",
              "    .dataframe tbody tr th:only-of-type {\n",
              "        vertical-align: middle;\n",
              "    }\n",
              "\n",
              "    .dataframe tbody tr th {\n",
              "        vertical-align: top;\n",
              "    }\n",
              "\n",
              "    .dataframe thead th {\n",
              "        text-align: right;\n",
              "    }\n",
              "</style>\n",
              "<table border=\"1\" class=\"dataframe\">\n",
              "  <thead>\n",
              "    <tr style=\"text-align: right;\">\n",
              "      <th></th>\n",
              "      <th>record_ID</th>\n",
              "      <th>store_id</th>\n",
              "      <th>sku_id</th>\n",
              "      <th>total_price</th>\n",
              "      <th>base_price</th>\n",
              "      <th>is_featured_sku</th>\n",
              "      <th>is_display_sku</th>\n",
              "      <th>units_sold</th>\n",
              "    </tr>\n",
              "  </thead>\n",
              "  <tbody>\n",
              "    <tr>\n",
              "      <th>count</th>\n",
              "      <td>150150.000000</td>\n",
              "      <td>150150.000000</td>\n",
              "      <td>150150.000000</td>\n",
              "      <td>150149.000000</td>\n",
              "      <td>150150.000000</td>\n",
              "      <td>150150.000000</td>\n",
              "      <td>150150.000000</td>\n",
              "      <td>150150.000000</td>\n",
              "    </tr>\n",
              "    <tr>\n",
              "      <th>mean</th>\n",
              "      <td>106271.555504</td>\n",
              "      <td>9199.422511</td>\n",
              "      <td>254761.132468</td>\n",
              "      <td>206.626751</td>\n",
              "      <td>219.425927</td>\n",
              "      <td>0.095611</td>\n",
              "      <td>0.133200</td>\n",
              "      <td>51.674206</td>\n",
              "    </tr>\n",
              "    <tr>\n",
              "      <th>std</th>\n",
              "      <td>61386.037861</td>\n",
              "      <td>615.591445</td>\n",
              "      <td>85547.306447</td>\n",
              "      <td>103.308516</td>\n",
              "      <td>110.961712</td>\n",
              "      <td>0.294058</td>\n",
              "      <td>0.339792</td>\n",
              "      <td>60.207904</td>\n",
              "    </tr>\n",
              "    <tr>\n",
              "      <th>min</th>\n",
              "      <td>1.000000</td>\n",
              "      <td>8023.000000</td>\n",
              "      <td>216233.000000</td>\n",
              "      <td>41.325000</td>\n",
              "      <td>61.275000</td>\n",
              "      <td>0.000000</td>\n",
              "      <td>0.000000</td>\n",
              "      <td>1.000000</td>\n",
              "    </tr>\n",
              "    <tr>\n",
              "      <th>25%</th>\n",
              "      <td>53111.250000</td>\n",
              "      <td>8562.000000</td>\n",
              "      <td>217217.000000</td>\n",
              "      <td>130.387500</td>\n",
              "      <td>133.237500</td>\n",
              "      <td>0.000000</td>\n",
              "      <td>0.000000</td>\n",
              "      <td>20.000000</td>\n",
              "    </tr>\n",
              "    <tr>\n",
              "      <th>50%</th>\n",
              "      <td>106226.500000</td>\n",
              "      <td>9371.000000</td>\n",
              "      <td>222087.000000</td>\n",
              "      <td>198.075000</td>\n",
              "      <td>205.912500</td>\n",
              "      <td>0.000000</td>\n",
              "      <td>0.000000</td>\n",
              "      <td>35.000000</td>\n",
              "    </tr>\n",
              "    <tr>\n",
              "      <th>75%</th>\n",
              "      <td>159452.750000</td>\n",
              "      <td>9731.000000</td>\n",
              "      <td>245338.000000</td>\n",
              "      <td>233.700000</td>\n",
              "      <td>234.412500</td>\n",
              "      <td>0.000000</td>\n",
              "      <td>0.000000</td>\n",
              "      <td>62.000000</td>\n",
              "    </tr>\n",
              "    <tr>\n",
              "      <th>max</th>\n",
              "      <td>212644.000000</td>\n",
              "      <td>9984.000000</td>\n",
              "      <td>679023.000000</td>\n",
              "      <td>562.162500</td>\n",
              "      <td>562.162500</td>\n",
              "      <td>1.000000</td>\n",
              "      <td>1.000000</td>\n",
              "      <td>2876.000000</td>\n",
              "    </tr>\n",
              "  </tbody>\n",
              "</table>\n",
              "</div>"
            ],
            "text/plain": [
              "           record_ID       store_id  ...  is_display_sku     units_sold\n",
              "count  150150.000000  150150.000000  ...   150150.000000  150150.000000\n",
              "mean   106271.555504    9199.422511  ...        0.133200      51.674206\n",
              "std     61386.037861     615.591445  ...        0.339792      60.207904\n",
              "min         1.000000    8023.000000  ...        0.000000       1.000000\n",
              "25%     53111.250000    8562.000000  ...        0.000000      20.000000\n",
              "50%    106226.500000    9371.000000  ...        0.000000      35.000000\n",
              "75%    159452.750000    9731.000000  ...        0.000000      62.000000\n",
              "max    212644.000000    9984.000000  ...        1.000000    2876.000000\n",
              "\n",
              "[8 rows x 8 columns]"
            ]
          },
          "metadata": {
            "tags": []
          },
          "execution_count": 9
        }
      ]
    },
    {
      "cell_type": "code",
      "metadata": {
        "colab_type": "code",
        "id": "9IVELK2qMId1",
        "colab": {
          "base_uri": "https://localhost:8080/",
          "height": 185
        },
        "outputId": "1aca1732-fd0d-4eaf-d70e-2eac1b8b85e7"
      },
      "source": [
        "train.dtypes"
      ],
      "execution_count": 10,
      "outputs": [
        {
          "output_type": "execute_result",
          "data": {
            "text/plain": [
              "record_ID            int64\n",
              "week                object\n",
              "store_id             int64\n",
              "sku_id               int64\n",
              "total_price        float64\n",
              "base_price         float64\n",
              "is_featured_sku      int64\n",
              "is_display_sku       int64\n",
              "units_sold           int64\n",
              "dtype: object"
            ]
          },
          "metadata": {
            "tags": []
          },
          "execution_count": 10
        }
      ]
    },
    {
      "cell_type": "code",
      "metadata": {
        "colab_type": "code",
        "id": "KMd5qNfiPlSd",
        "colab": {
          "base_uri": "https://localhost:8080/",
          "height": 185
        },
        "outputId": "281c48df-0c74-4ad6-eebf-51464659db17"
      },
      "source": [
        "train.isna().sum()"
      ],
      "execution_count": 11,
      "outputs": [
        {
          "output_type": "execute_result",
          "data": {
            "text/plain": [
              "record_ID          0\n",
              "week               0\n",
              "store_id           0\n",
              "sku_id             0\n",
              "total_price        1\n",
              "base_price         0\n",
              "is_featured_sku    0\n",
              "is_display_sku     0\n",
              "units_sold         0\n",
              "dtype: int64"
            ]
          },
          "metadata": {
            "tags": []
          },
          "execution_count": 11
        }
      ]
    },
    {
      "cell_type": "code",
      "metadata": {
        "colab_type": "code",
        "id": "jBsXhWO1Pd9s",
        "colab": {}
      },
      "source": [
        "#Imputing missing value with the relevant total price\n",
        "train.total_price=train.total_price.fillna(469.5375)"
      ],
      "execution_count": 12,
      "outputs": []
    },
    {
      "cell_type": "code",
      "metadata": {
        "id": "78A2MRNlc1mZ",
        "colab_type": "code",
        "colab": {
          "base_uri": "https://localhost:8080/",
          "height": 50
        },
        "outputId": "e809780f-253c-42bd-b1ad-44eec8a50fd8"
      },
      "source": [
        "print(train.isna().sum().sum())\n",
        "print(test.isna().sum().sum())"
      ],
      "execution_count": 13,
      "outputs": [
        {
          "output_type": "stream",
          "text": [
            "0\n",
            "0\n"
          ],
          "name": "stdout"
        }
      ]
    },
    {
      "cell_type": "markdown",
      "metadata": {
        "colab_type": "text",
        "id": "pZu9nxLqLftF"
      },
      "source": [
        "# Feature Engineering"
      ]
    },
    {
      "cell_type": "code",
      "metadata": {
        "colab_type": "code",
        "id": "eKpXlM71LhNK",
        "colab": {
          "base_uri": "https://localhost:8080/",
          "height": 67
        },
        "outputId": "0666a630-0462-4e01-bcc8-bb7d1ce6bdd9"
      },
      "source": [
        "train.columns"
      ],
      "execution_count": 14,
      "outputs": [
        {
          "output_type": "execute_result",
          "data": {
            "text/plain": [
              "Index(['record_ID', 'week', 'store_id', 'sku_id', 'total_price', 'base_price',\n",
              "       'is_featured_sku', 'is_display_sku', 'units_sold'],\n",
              "      dtype='object')"
            ]
          },
          "metadata": {
            "tags": []
          },
          "execution_count": 14
        }
      ]
    },
    {
      "cell_type": "code",
      "metadata": {
        "colab_type": "code",
        "id": "1X489NATbHK7",
        "colab": {}
      },
      "source": [
        "#New Feature Creation functions\n",
        "\n",
        "def gen_count_id(train,test,col,name):\n",
        "    temp=train.groupby(col)['record_ID'].count().reset_index().rename(columns={'record_ID':name})\n",
        "    train=pd.merge(train,temp,how='left',on=col)\n",
        "    test=pd.merge(test,temp,how='left',on=col)\n",
        "    train[name]=train[name].astype(float)\n",
        "    test[name]=test[name].astype(float)\n",
        "    train[name].fillna(np.median(temp[name]),inplace=True)\n",
        "    test[name].fillna(np.median(temp[name]),inplace=True)\n",
        "    return train,test\n",
        "\n",
        "def gen_average_units(train,test,col,name):\n",
        "    temp=train.groupby(col)['units_sold'].mean().reset_index().rename(columns={'units_sold':name})\n",
        "    train=pd.merge(train,temp,how='left',on=col)\n",
        "    test=pd.merge(test,temp,how='left',on=col)\n",
        "    train[name].fillna(np.median(temp[name]),inplace=True)\n",
        "    test[name].fillna(np.median(temp[name]),inplace=True)\n",
        "    return train,test\n",
        "\n",
        "def gen_average_price(train,test,col,price='base_price',name='name'):\n",
        "    temp=train.groupby(col)[price].mean().reset_index().rename(columns={price:name})\n",
        "    train=pd.merge(train,temp,how='left',on=col)\n",
        "    test=pd.merge(test,temp,how='left',on=col)\n",
        "    train[name].fillna(np.median(temp[name]),inplace=True)\n",
        "    test[name].fillna(np.median(temp[name]),inplace=True)\n",
        "    return train,test"
      ],
      "execution_count": 15,
      "outputs": []
    },
    {
      "cell_type": "code",
      "metadata": {
        "colab_type": "code",
        "id": "koa6JSoubL3x",
        "colab": {}
      },
      "source": [
        "train,test = gen_count_id(train,test,col=['sku_id','store_id'],name='count_id_sku_store') #Genearting count of records per 'sku-id & store-id' \n",
        "train,test = gen_count_id(train,test,col=['sku_id'],name='count_id_sku') #Genearting count of records per 'sku-id'\n",
        "train,test = gen_count_id(train,test,col=['store_id'],name='count_id_store') #Genearting count of records per 'store-id'\n",
        "\n",
        "train,test = gen_average_units(train,test,col=['sku_id','store_id'],name='count_sku_store_id') #Genearting average units sold per 'sku-id & store-id'\n",
        "train,test = gen_average_units(train,test,col=['store_id'],name='count_store_id') #Genearting average units sold per 'store-id'\n",
        "train,test = gen_average_units(train,test,col=['sku_id'],name='count_sku_id') #Genearting average units sold per 'sku-id'\n",
        "\n",
        "train,test = gen_average_price(train,test,col=['sku_id','store_id'],price='base_price',name='price_sku_store') #Genearting average base price per 'sku-id & store-id'\n",
        "train,test = gen_average_price(train,test,col=['sku_id','store_id'],price='total_price',name='price_to_sku_store') #Genearting average total price per 'sku-id & store-id'\n",
        "train,test = gen_average_price(train,test,col=['store_id'],price='base_price',name='price_store_id') #Genearting average base price per 'store-id'\n",
        "train,test = gen_average_price(train,test,col=['sku_id'],price='base_price',name='price_sku_id') #Genearting average base price per 'sku-id'\n",
        "train,test = gen_average_price(train,test,col=['store_id'],price='total_price',name='price_to_store_id') #Genearting average total price per 'store-id'\n",
        "train,test = gen_average_price(train,test,col=['sku_id'],price='total_price',name='price_to_sku_id') #Genearting average total price per 'sku-id'"
      ],
      "execution_count": 16,
      "outputs": []
    },
    {
      "cell_type": "code",
      "metadata": {
        "colab_type": "code",
        "id": "vdbYXGr0dJ6u",
        "colab": {}
      },
      "source": [
        "#Converting week feature\n",
        "le = OrdinalEncoder()\n",
        "train['week_1']=le.fit_transform(train['week'])\n",
        "le = OrdinalEncoder()\n",
        "test['week_1']=le.fit_transform(test['week'])+130\n",
        "\n",
        "#Creating week number feature\n",
        "train['week_num']=train.week_1%52\n",
        "test['week_num']=test.week_1%52\n",
        "\n",
        "train['week_num1']=train.week_1%4\n",
        "test['week_num1']=test.week_1%4\n",
        "\n",
        "# Encoding 'week' it using sine and cosine transform; considering it as a cyclic feature \n",
        "train['week_sin'] = np.sin(2 * np.pi * train['week_1'] / 52.143)\n",
        "train['week_cos'] = np.cos(2 * np.pi * train['week_1'] / 52.143)\n",
        "test['week_sin'] = np.sin(2 * np.pi * test['week_1'] / 52.143)\n",
        "test['week_cos'] = np.cos(2 * np.pi * test['week_1'] / 52.143)\n",
        "\n",
        "#Creating feature: percent difference between base price and checkout price.\n",
        "train['price_diff_percent'] = (train['base_price'] - train['total_price']) / train['base_price']\n",
        "test['price_diff_percent'] = (test['base_price'] - test['total_price']) / test['base_price']"
      ],
      "execution_count": 17,
      "outputs": []
    },
    {
      "cell_type": "code",
      "metadata": {
        "colab_type": "code",
        "id": "-0eM6ynFdIRt",
        "colab": {
          "base_uri": "https://localhost:8080/",
          "height": 215
        },
        "outputId": "e7f0e41c-c146-4365-c747-a047b8be4a60"
      },
      "source": [
        "train.tail()"
      ],
      "execution_count": 18,
      "outputs": [
        {
          "output_type": "execute_result",
          "data": {
            "text/html": [
              "<div>\n",
              "<style scoped>\n",
              "    .dataframe tbody tr th:only-of-type {\n",
              "        vertical-align: middle;\n",
              "    }\n",
              "\n",
              "    .dataframe tbody tr th {\n",
              "        vertical-align: top;\n",
              "    }\n",
              "\n",
              "    .dataframe thead th {\n",
              "        text-align: right;\n",
              "    }\n",
              "</style>\n",
              "<table border=\"1\" class=\"dataframe\">\n",
              "  <thead>\n",
              "    <tr style=\"text-align: right;\">\n",
              "      <th></th>\n",
              "      <th>record_ID</th>\n",
              "      <th>week</th>\n",
              "      <th>store_id</th>\n",
              "      <th>sku_id</th>\n",
              "      <th>total_price</th>\n",
              "      <th>base_price</th>\n",
              "      <th>is_featured_sku</th>\n",
              "      <th>is_display_sku</th>\n",
              "      <th>units_sold</th>\n",
              "      <th>count_id_sku_store</th>\n",
              "      <th>count_id_sku</th>\n",
              "      <th>count_id_store</th>\n",
              "      <th>count_sku_store_id</th>\n",
              "      <th>count_store_id</th>\n",
              "      <th>count_sku_id</th>\n",
              "      <th>price_sku_store</th>\n",
              "      <th>price_to_sku_store</th>\n",
              "      <th>price_store_id</th>\n",
              "      <th>price_sku_id</th>\n",
              "      <th>price_to_store_id</th>\n",
              "      <th>price_to_sku_id</th>\n",
              "      <th>week_1</th>\n",
              "      <th>week_num</th>\n",
              "      <th>week_num1</th>\n",
              "      <th>week_sin</th>\n",
              "      <th>week_cos</th>\n",
              "      <th>price_diff_percent</th>\n",
              "    </tr>\n",
              "  </thead>\n",
              "  <tbody>\n",
              "    <tr>\n",
              "      <th>150145</th>\n",
              "      <td>212638</td>\n",
              "      <td>09/07/13</td>\n",
              "      <td>9984</td>\n",
              "      <td>223245</td>\n",
              "      <td>235.8375</td>\n",
              "      <td>235.8375</td>\n",
              "      <td>0</td>\n",
              "      <td>0</td>\n",
              "      <td>38</td>\n",
              "      <td>130.0</td>\n",
              "      <td>9490.0</td>\n",
              "      <td>2210.0</td>\n",
              "      <td>61.384615</td>\n",
              "      <td>37.853394</td>\n",
              "      <td>68.510537</td>\n",
              "      <td>221.423077</td>\n",
              "      <td>207.693750</td>\n",
              "      <td>197.030107</td>\n",
              "      <td>214.878438</td>\n",
              "      <td>186.580537</td>\n",
              "      <td>203.073612</td>\n",
              "      <td>130</td>\n",
              "      <td>26</td>\n",
              "      <td>2</td>\n",
              "      <td>0.043065</td>\n",
              "      <td>-0.999072</td>\n",
              "      <td>0.000000</td>\n",
              "    </tr>\n",
              "    <tr>\n",
              "      <th>150146</th>\n",
              "      <td>212639</td>\n",
              "      <td>09/07/13</td>\n",
              "      <td>9984</td>\n",
              "      <td>223153</td>\n",
              "      <td>235.8375</td>\n",
              "      <td>235.8375</td>\n",
              "      <td>0</td>\n",
              "      <td>0</td>\n",
              "      <td>30</td>\n",
              "      <td>130.0</td>\n",
              "      <td>7540.0</td>\n",
              "      <td>2210.0</td>\n",
              "      <td>53.023077</td>\n",
              "      <td>37.853394</td>\n",
              "      <td>60.407560</td>\n",
              "      <td>226.465385</td>\n",
              "      <td>211.892019</td>\n",
              "      <td>197.030107</td>\n",
              "      <td>220.461485</td>\n",
              "      <td>186.580537</td>\n",
              "      <td>206.303241</td>\n",
              "      <td>130</td>\n",
              "      <td>26</td>\n",
              "      <td>2</td>\n",
              "      <td>0.043065</td>\n",
              "      <td>-0.999072</td>\n",
              "      <td>0.000000</td>\n",
              "    </tr>\n",
              "    <tr>\n",
              "      <th>150147</th>\n",
              "      <td>212642</td>\n",
              "      <td>09/07/13</td>\n",
              "      <td>9984</td>\n",
              "      <td>245338</td>\n",
              "      <td>357.6750</td>\n",
              "      <td>483.7875</td>\n",
              "      <td>1</td>\n",
              "      <td>1</td>\n",
              "      <td>31</td>\n",
              "      <td>130.0</td>\n",
              "      <td>8320.0</td>\n",
              "      <td>2210.0</td>\n",
              "      <td>21.553846</td>\n",
              "      <td>37.853394</td>\n",
              "      <td>33.212139</td>\n",
              "      <td>467.838462</td>\n",
              "      <td>425.066538</td>\n",
              "      <td>197.030107</td>\n",
              "      <td>476.750449</td>\n",
              "      <td>186.580537</td>\n",
              "      <td>432.766248</td>\n",
              "      <td>130</td>\n",
              "      <td>26</td>\n",
              "      <td>2</td>\n",
              "      <td>0.043065</td>\n",
              "      <td>-0.999072</td>\n",
              "      <td>0.260677</td>\n",
              "    </tr>\n",
              "    <tr>\n",
              "      <th>150148</th>\n",
              "      <td>212643</td>\n",
              "      <td>09/07/13</td>\n",
              "      <td>9984</td>\n",
              "      <td>547934</td>\n",
              "      <td>141.7875</td>\n",
              "      <td>191.6625</td>\n",
              "      <td>0</td>\n",
              "      <td>1</td>\n",
              "      <td>12</td>\n",
              "      <td>130.0</td>\n",
              "      <td>4030.0</td>\n",
              "      <td>2210.0</td>\n",
              "      <td>14.100000</td>\n",
              "      <td>37.853394</td>\n",
              "      <td>21.838213</td>\n",
              "      <td>172.644231</td>\n",
              "      <td>162.954231</td>\n",
              "      <td>197.030107</td>\n",
              "      <td>174.616247</td>\n",
              "      <td>186.580537</td>\n",
              "      <td>166.385369</td>\n",
              "      <td>130</td>\n",
              "      <td>26</td>\n",
              "      <td>2</td>\n",
              "      <td>0.043065</td>\n",
              "      <td>-0.999072</td>\n",
              "      <td>0.260223</td>\n",
              "    </tr>\n",
              "    <tr>\n",
              "      <th>150149</th>\n",
              "      <td>212644</td>\n",
              "      <td>09/07/13</td>\n",
              "      <td>9984</td>\n",
              "      <td>679023</td>\n",
              "      <td>234.4125</td>\n",
              "      <td>234.4125</td>\n",
              "      <td>0</td>\n",
              "      <td>0</td>\n",
              "      <td>15</td>\n",
              "      <td>130.0</td>\n",
              "      <td>1170.0</td>\n",
              "      <td>2210.0</td>\n",
              "      <td>13.861538</td>\n",
              "      <td>37.853394</td>\n",
              "      <td>16.617094</td>\n",
              "      <td>208.154135</td>\n",
              "      <td>197.033654</td>\n",
              "      <td>197.030107</td>\n",
              "      <td>209.117532</td>\n",
              "      <td>186.580537</td>\n",
              "      <td>198.309455</td>\n",
              "      <td>130</td>\n",
              "      <td>26</td>\n",
              "      <td>2</td>\n",
              "      <td>0.043065</td>\n",
              "      <td>-0.999072</td>\n",
              "      <td>0.000000</td>\n",
              "    </tr>\n",
              "  </tbody>\n",
              "</table>\n",
              "</div>"
            ],
            "text/plain": [
              "        record_ID      week  store_id  ...  week_sin  week_cos  price_diff_percent\n",
              "150145     212638  09/07/13      9984  ...  0.043065 -0.999072            0.000000\n",
              "150146     212639  09/07/13      9984  ...  0.043065 -0.999072            0.000000\n",
              "150147     212642  09/07/13      9984  ...  0.043065 -0.999072            0.260677\n",
              "150148     212643  09/07/13      9984  ...  0.043065 -0.999072            0.260223\n",
              "150149     212644  09/07/13      9984  ...  0.043065 -0.999072            0.000000\n",
              "\n",
              "[5 rows x 27 columns]"
            ]
          },
          "metadata": {
            "tags": []
          },
          "execution_count": 18
        }
      ]
    },
    {
      "cell_type": "code",
      "metadata": {
        "id": "7ZmkAhLtc1ml",
        "colab_type": "code",
        "colab": {
          "base_uri": "https://localhost:8080/",
          "height": 215
        },
        "outputId": "7efb6e44-4d3c-45cc-f9e3-f8bc94539098"
      },
      "source": [
        "test.head()"
      ],
      "execution_count": 19,
      "outputs": [
        {
          "output_type": "execute_result",
          "data": {
            "text/html": [
              "<div>\n",
              "<style scoped>\n",
              "    .dataframe tbody tr th:only-of-type {\n",
              "        vertical-align: middle;\n",
              "    }\n",
              "\n",
              "    .dataframe tbody tr th {\n",
              "        vertical-align: top;\n",
              "    }\n",
              "\n",
              "    .dataframe thead th {\n",
              "        text-align: right;\n",
              "    }\n",
              "</style>\n",
              "<table border=\"1\" class=\"dataframe\">\n",
              "  <thead>\n",
              "    <tr style=\"text-align: right;\">\n",
              "      <th></th>\n",
              "      <th>record_ID</th>\n",
              "      <th>week</th>\n",
              "      <th>store_id</th>\n",
              "      <th>sku_id</th>\n",
              "      <th>total_price</th>\n",
              "      <th>base_price</th>\n",
              "      <th>is_featured_sku</th>\n",
              "      <th>is_display_sku</th>\n",
              "      <th>count_id_sku_store</th>\n",
              "      <th>count_id_sku</th>\n",
              "      <th>count_id_store</th>\n",
              "      <th>count_sku_store_id</th>\n",
              "      <th>count_store_id</th>\n",
              "      <th>count_sku_id</th>\n",
              "      <th>price_sku_store</th>\n",
              "      <th>price_to_sku_store</th>\n",
              "      <th>price_store_id</th>\n",
              "      <th>price_sku_id</th>\n",
              "      <th>price_to_store_id</th>\n",
              "      <th>price_to_sku_id</th>\n",
              "      <th>week_1</th>\n",
              "      <th>week_num</th>\n",
              "      <th>week_num1</th>\n",
              "      <th>week_sin</th>\n",
              "      <th>week_cos</th>\n",
              "      <th>price_diff_percent</th>\n",
              "    </tr>\n",
              "  </thead>\n",
              "  <tbody>\n",
              "    <tr>\n",
              "      <th>0</th>\n",
              "      <td>212645</td>\n",
              "      <td>16/07/13</td>\n",
              "      <td>8091</td>\n",
              "      <td>216418</td>\n",
              "      <td>108.3000</td>\n",
              "      <td>108.3000</td>\n",
              "      <td>0</td>\n",
              "      <td>0</td>\n",
              "      <td>130.0</td>\n",
              "      <td>8840.0</td>\n",
              "      <td>1170.0</td>\n",
              "      <td>26.376923</td>\n",
              "      <td>32.805983</td>\n",
              "      <td>88.923869</td>\n",
              "      <td>105.800769</td>\n",
              "      <td>102.117692</td>\n",
              "      <td>181.312372</td>\n",
              "      <td>94.688268</td>\n",
              "      <td>172.272756</td>\n",
              "      <td>91.982702</td>\n",
              "      <td>131</td>\n",
              "      <td>27</td>\n",
              "      <td>3</td>\n",
              "      <td>-0.077343</td>\n",
              "      <td>-0.997005</td>\n",
              "      <td>0.0</td>\n",
              "    </tr>\n",
              "    <tr>\n",
              "      <th>1</th>\n",
              "      <td>212646</td>\n",
              "      <td>16/07/13</td>\n",
              "      <td>8091</td>\n",
              "      <td>216419</td>\n",
              "      <td>109.0125</td>\n",
              "      <td>109.0125</td>\n",
              "      <td>0</td>\n",
              "      <td>0</td>\n",
              "      <td>130.0</td>\n",
              "      <td>8710.0</td>\n",
              "      <td>1170.0</td>\n",
              "      <td>28.307692</td>\n",
              "      <td>32.805983</td>\n",
              "      <td>72.182664</td>\n",
              "      <td>105.839135</td>\n",
              "      <td>102.473942</td>\n",
              "      <td>181.312372</td>\n",
              "      <td>94.908763</td>\n",
              "      <td>172.272756</td>\n",
              "      <td>92.349162</td>\n",
              "      <td>131</td>\n",
              "      <td>27</td>\n",
              "      <td>3</td>\n",
              "      <td>-0.077343</td>\n",
              "      <td>-0.997005</td>\n",
              "      <td>0.0</td>\n",
              "    </tr>\n",
              "    <tr>\n",
              "      <th>2</th>\n",
              "      <td>212647</td>\n",
              "      <td>16/07/13</td>\n",
              "      <td>8091</td>\n",
              "      <td>216425</td>\n",
              "      <td>133.9500</td>\n",
              "      <td>133.9500</td>\n",
              "      <td>0</td>\n",
              "      <td>0</td>\n",
              "      <td>130.0</td>\n",
              "      <td>8580.0</td>\n",
              "      <td>1170.0</td>\n",
              "      <td>25.669231</td>\n",
              "      <td>32.805983</td>\n",
              "      <td>34.019231</td>\n",
              "      <td>131.204135</td>\n",
              "      <td>126.671538</td>\n",
              "      <td>181.312372</td>\n",
              "      <td>128.285210</td>\n",
              "      <td>172.272756</td>\n",
              "      <td>125.156355</td>\n",
              "      <td>131</td>\n",
              "      <td>27</td>\n",
              "      <td>3</td>\n",
              "      <td>-0.077343</td>\n",
              "      <td>-0.997005</td>\n",
              "      <td>0.0</td>\n",
              "    </tr>\n",
              "    <tr>\n",
              "      <th>3</th>\n",
              "      <td>212648</td>\n",
              "      <td>16/07/13</td>\n",
              "      <td>8091</td>\n",
              "      <td>216233</td>\n",
              "      <td>133.9500</td>\n",
              "      <td>133.9500</td>\n",
              "      <td>0</td>\n",
              "      <td>0</td>\n",
              "      <td>130.0</td>\n",
              "      <td>9620.0</td>\n",
              "      <td>1170.0</td>\n",
              "      <td>29.107692</td>\n",
              "      <td>32.805983</td>\n",
              "      <td>46.821206</td>\n",
              "      <td>129.916154</td>\n",
              "      <td>126.167308</td>\n",
              "      <td>181.312372</td>\n",
              "      <td>128.101871</td>\n",
              "      <td>172.272756</td>\n",
              "      <td>124.942208</td>\n",
              "      <td>131</td>\n",
              "      <td>27</td>\n",
              "      <td>3</td>\n",
              "      <td>-0.077343</td>\n",
              "      <td>-0.997005</td>\n",
              "      <td>0.0</td>\n",
              "    </tr>\n",
              "    <tr>\n",
              "      <th>4</th>\n",
              "      <td>212649</td>\n",
              "      <td>16/07/13</td>\n",
              "      <td>8091</td>\n",
              "      <td>217390</td>\n",
              "      <td>176.7000</td>\n",
              "      <td>176.7000</td>\n",
              "      <td>0</td>\n",
              "      <td>0</td>\n",
              "      <td>130.0</td>\n",
              "      <td>9100.0</td>\n",
              "      <td>1170.0</td>\n",
              "      <td>29.469231</td>\n",
              "      <td>32.805983</td>\n",
              "      <td>62.312747</td>\n",
              "      <td>164.439519</td>\n",
              "      <td>152.968269</td>\n",
              "      <td>181.312372</td>\n",
              "      <td>158.990538</td>\n",
              "      <td>172.272756</td>\n",
              "      <td>150.867334</td>\n",
              "      <td>131</td>\n",
              "      <td>27</td>\n",
              "      <td>3</td>\n",
              "      <td>-0.077343</td>\n",
              "      <td>-0.997005</td>\n",
              "      <td>0.0</td>\n",
              "    </tr>\n",
              "  </tbody>\n",
              "</table>\n",
              "</div>"
            ],
            "text/plain": [
              "   record_ID      week  store_id  ...  week_sin  week_cos  price_diff_percent\n",
              "0     212645  16/07/13      8091  ... -0.077343 -0.997005                 0.0\n",
              "1     212646  16/07/13      8091  ... -0.077343 -0.997005                 0.0\n",
              "2     212647  16/07/13      8091  ... -0.077343 -0.997005                 0.0\n",
              "3     212648  16/07/13      8091  ... -0.077343 -0.997005                 0.0\n",
              "4     212649  16/07/13      8091  ... -0.077343 -0.997005                 0.0\n",
              "\n",
              "[5 rows x 26 columns]"
            ]
          },
          "metadata": {
            "tags": []
          },
          "execution_count": 19
        }
      ]
    },
    {
      "cell_type": "code",
      "metadata": {
        "colab_type": "code",
        "id": "RWTAs-1oMswh",
        "colab": {}
      },
      "source": [
        "X=train[list(set(train.columns)-set(['record_ID','units_sold','week']))]\n",
        "Y= np.log1p(train['units_sold'])\n",
        "X_test=test[list(set(test.columns)-set(['record_ID','week']))]"
      ],
      "execution_count": 20,
      "outputs": []
    },
    {
      "cell_type": "code",
      "metadata": {
        "colab_type": "code",
        "id": "EQOoY0F2tZQF",
        "colab": {
          "base_uri": "https://localhost:8080/",
          "height": 215
        },
        "outputId": "11d4d9c0-f23b-4b7e-9b97-30e1ea2e0f5e"
      },
      "source": [
        "X.head()"
      ],
      "execution_count": 21,
      "outputs": [
        {
          "output_type": "execute_result",
          "data": {
            "text/html": [
              "<div>\n",
              "<style scoped>\n",
              "    .dataframe tbody tr th:only-of-type {\n",
              "        vertical-align: middle;\n",
              "    }\n",
              "\n",
              "    .dataframe tbody tr th {\n",
              "        vertical-align: top;\n",
              "    }\n",
              "\n",
              "    .dataframe thead th {\n",
              "        text-align: right;\n",
              "    }\n",
              "</style>\n",
              "<table border=\"1\" class=\"dataframe\">\n",
              "  <thead>\n",
              "    <tr style=\"text-align: right;\">\n",
              "      <th></th>\n",
              "      <th>count_id_store</th>\n",
              "      <th>count_id_sku_store</th>\n",
              "      <th>week_1</th>\n",
              "      <th>is_featured_sku</th>\n",
              "      <th>price_store_id</th>\n",
              "      <th>price_to_store_id</th>\n",
              "      <th>count_sku_store_id</th>\n",
              "      <th>week_num1</th>\n",
              "      <th>price_diff_percent</th>\n",
              "      <th>week_sin</th>\n",
              "      <th>price_to_sku_id</th>\n",
              "      <th>count_sku_id</th>\n",
              "      <th>is_display_sku</th>\n",
              "      <th>base_price</th>\n",
              "      <th>count_id_sku</th>\n",
              "      <th>week_cos</th>\n",
              "      <th>total_price</th>\n",
              "      <th>price_to_sku_store</th>\n",
              "      <th>sku_id</th>\n",
              "      <th>price_sku_store</th>\n",
              "      <th>store_id</th>\n",
              "      <th>week_num</th>\n",
              "      <th>count_store_id</th>\n",
              "      <th>price_sku_id</th>\n",
              "    </tr>\n",
              "  </thead>\n",
              "  <tbody>\n",
              "    <tr>\n",
              "      <th>0</th>\n",
              "      <td>1170.0</td>\n",
              "      <td>130.0</td>\n",
              "      <td>1</td>\n",
              "      <td>0</td>\n",
              "      <td>181.312372</td>\n",
              "      <td>172.272756</td>\n",
              "      <td>26.376923</td>\n",
              "      <td>1</td>\n",
              "      <td>0.11465</td>\n",
              "      <td>0.120208</td>\n",
              "      <td>91.982702</td>\n",
              "      <td>88.923869</td>\n",
              "      <td>0</td>\n",
              "      <td>111.8625</td>\n",
              "      <td>8840.0</td>\n",
              "      <td>0.992749</td>\n",
              "      <td>99.0375</td>\n",
              "      <td>102.117692</td>\n",
              "      <td>216418</td>\n",
              "      <td>105.800769</td>\n",
              "      <td>8091</td>\n",
              "      <td>1</td>\n",
              "      <td>32.805983</td>\n",
              "      <td>94.688268</td>\n",
              "    </tr>\n",
              "    <tr>\n",
              "      <th>1</th>\n",
              "      <td>1170.0</td>\n",
              "      <td>130.0</td>\n",
              "      <td>1</td>\n",
              "      <td>0</td>\n",
              "      <td>181.312372</td>\n",
              "      <td>172.272756</td>\n",
              "      <td>28.307692</td>\n",
              "      <td>1</td>\n",
              "      <td>0.00000</td>\n",
              "      <td>0.120208</td>\n",
              "      <td>92.349162</td>\n",
              "      <td>72.182664</td>\n",
              "      <td>0</td>\n",
              "      <td>99.0375</td>\n",
              "      <td>8710.0</td>\n",
              "      <td>0.992749</td>\n",
              "      <td>99.0375</td>\n",
              "      <td>102.473942</td>\n",
              "      <td>216419</td>\n",
              "      <td>105.839135</td>\n",
              "      <td>8091</td>\n",
              "      <td>1</td>\n",
              "      <td>32.805983</td>\n",
              "      <td>94.908763</td>\n",
              "    </tr>\n",
              "    <tr>\n",
              "      <th>2</th>\n",
              "      <td>1170.0</td>\n",
              "      <td>130.0</td>\n",
              "      <td>1</td>\n",
              "      <td>0</td>\n",
              "      <td>181.312372</td>\n",
              "      <td>172.272756</td>\n",
              "      <td>25.669231</td>\n",
              "      <td>1</td>\n",
              "      <td>0.00000</td>\n",
              "      <td>0.120208</td>\n",
              "      <td>125.156355</td>\n",
              "      <td>34.019231</td>\n",
              "      <td>0</td>\n",
              "      <td>133.9500</td>\n",
              "      <td>8580.0</td>\n",
              "      <td>0.992749</td>\n",
              "      <td>133.9500</td>\n",
              "      <td>126.671538</td>\n",
              "      <td>216425</td>\n",
              "      <td>131.204135</td>\n",
              "      <td>8091</td>\n",
              "      <td>1</td>\n",
              "      <td>32.805983</td>\n",
              "      <td>128.285210</td>\n",
              "    </tr>\n",
              "    <tr>\n",
              "      <th>3</th>\n",
              "      <td>1170.0</td>\n",
              "      <td>130.0</td>\n",
              "      <td>1</td>\n",
              "      <td>0</td>\n",
              "      <td>181.312372</td>\n",
              "      <td>172.272756</td>\n",
              "      <td>29.107692</td>\n",
              "      <td>1</td>\n",
              "      <td>0.00000</td>\n",
              "      <td>0.120208</td>\n",
              "      <td>124.942208</td>\n",
              "      <td>46.821206</td>\n",
              "      <td>0</td>\n",
              "      <td>133.9500</td>\n",
              "      <td>9620.0</td>\n",
              "      <td>0.992749</td>\n",
              "      <td>133.9500</td>\n",
              "      <td>126.167308</td>\n",
              "      <td>216233</td>\n",
              "      <td>129.916154</td>\n",
              "      <td>8091</td>\n",
              "      <td>1</td>\n",
              "      <td>32.805983</td>\n",
              "      <td>128.101871</td>\n",
              "    </tr>\n",
              "    <tr>\n",
              "      <th>4</th>\n",
              "      <td>1170.0</td>\n",
              "      <td>130.0</td>\n",
              "      <td>1</td>\n",
              "      <td>0</td>\n",
              "      <td>181.312372</td>\n",
              "      <td>172.272756</td>\n",
              "      <td>29.469231</td>\n",
              "      <td>1</td>\n",
              "      <td>0.00000</td>\n",
              "      <td>0.120208</td>\n",
              "      <td>150.867334</td>\n",
              "      <td>62.312747</td>\n",
              "      <td>0</td>\n",
              "      <td>141.0750</td>\n",
              "      <td>9100.0</td>\n",
              "      <td>0.992749</td>\n",
              "      <td>141.0750</td>\n",
              "      <td>152.968269</td>\n",
              "      <td>217390</td>\n",
              "      <td>164.439519</td>\n",
              "      <td>8091</td>\n",
              "      <td>1</td>\n",
              "      <td>32.805983</td>\n",
              "      <td>158.990538</td>\n",
              "    </tr>\n",
              "  </tbody>\n",
              "</table>\n",
              "</div>"
            ],
            "text/plain": [
              "   count_id_store  count_id_sku_store  ...  count_store_id  price_sku_id\n",
              "0          1170.0               130.0  ...       32.805983     94.688268\n",
              "1          1170.0               130.0  ...       32.805983     94.908763\n",
              "2          1170.0               130.0  ...       32.805983    128.285210\n",
              "3          1170.0               130.0  ...       32.805983    128.101871\n",
              "4          1170.0               130.0  ...       32.805983    158.990538\n",
              "\n",
              "[5 rows x 24 columns]"
            ]
          },
          "metadata": {
            "tags": []
          },
          "execution_count": 21
        }
      ]
    },
    {
      "cell_type": "code",
      "metadata": {
        "colab_type": "code",
        "id": "RoV_i8LJI2UH",
        "colab": {
          "base_uri": "https://localhost:8080/",
          "height": 437
        },
        "outputId": "d69c568a-b62f-40cc-f385-c8ab3b5e8abe"
      },
      "source": [
        "X.dtypes"
      ],
      "execution_count": 22,
      "outputs": [
        {
          "output_type": "execute_result",
          "data": {
            "text/plain": [
              "count_id_store        float64\n",
              "count_id_sku_store    float64\n",
              "week_1                  int64\n",
              "is_featured_sku         int64\n",
              "price_store_id        float64\n",
              "price_to_store_id     float64\n",
              "count_sku_store_id    float64\n",
              "week_num1               int64\n",
              "price_diff_percent    float64\n",
              "week_sin              float64\n",
              "price_to_sku_id       float64\n",
              "count_sku_id          float64\n",
              "is_display_sku          int64\n",
              "base_price            float64\n",
              "count_id_sku          float64\n",
              "week_cos              float64\n",
              "total_price           float64\n",
              "price_to_sku_store    float64\n",
              "sku_id                  int64\n",
              "price_sku_store       float64\n",
              "store_id                int64\n",
              "week_num                int64\n",
              "count_store_id        float64\n",
              "price_sku_id          float64\n",
              "dtype: object"
            ]
          },
          "metadata": {
            "tags": []
          },
          "execution_count": 22
        }
      ]
    },
    {
      "cell_type": "code",
      "metadata": {
        "colab_type": "code",
        "id": "-aQ2-Pj1I355",
        "colab": {}
      },
      "source": [
        "X=X.astype({'sku_id': 'category','store_id': 'category'})\n",
        "X_test=X_test.astype({'sku_id': 'category','store_id': 'category'})"
      ],
      "execution_count": 23,
      "outputs": []
    },
    {
      "cell_type": "code",
      "metadata": {
        "colab_type": "code",
        "id": "-knSkEDUKfG7",
        "colab": {
          "base_uri": "https://localhost:8080/",
          "height": 50
        },
        "outputId": "cc5449cb-dd12-4daa-a8ed-51dcc025b8c8"
      },
      "source": [
        "print(len(X_test.columns))\n",
        "print(len(X.columns))"
      ],
      "execution_count": 24,
      "outputs": [
        {
          "output_type": "stream",
          "text": [
            "24\n",
            "24\n"
          ],
          "name": "stdout"
        }
      ]
    },
    {
      "cell_type": "code",
      "metadata": {
        "colab_type": "code",
        "id": "bmyiCX9Ghmoi",
        "colab": {
          "base_uri": "https://localhost:8080/",
          "height": 50
        },
        "outputId": "b21908a5-df28-49bc-a518-d989f245862b"
      },
      "source": [
        "print(X_test.isna().sum().sum())\n",
        "print(X.isna().sum().sum())"
      ],
      "execution_count": 25,
      "outputs": [
        {
          "output_type": "stream",
          "text": [
            "0\n",
            "0\n"
          ],
          "name": "stdout"
        }
      ]
    },
    {
      "cell_type": "code",
      "metadata": {
        "colab_type": "code",
        "id": "gL7yyH0KU0oQ",
        "colab": {}
      },
      "source": [
        "category_list=['store_id','sku_id']"
      ],
      "execution_count": 26,
      "outputs": []
    },
    {
      "cell_type": "code",
      "metadata": {
        "colab_type": "code",
        "id": "_JKsAqa5U5LE",
        "colab": {}
      },
      "source": [
        "encoder_final=MEstimateEncoder()\n",
        "encoder_final.fit(X[category_list], Y)\n",
        "\n",
        "cat_enc = encoder_final.transform(X[category_list], Y)\n",
        "continuous_train = X.drop(columns= category_list)\n",
        "X = pd.concat([cat_enc,continuous_train],axis=1)\n",
        "\n",
        "test_enc=encoder_final.transform(X_test[category_list])\n",
        "continuous_test=X_test.drop(columns= category_list)\n",
        "X_test=pd.concat([test_enc,continuous_test],axis=1)"
      ],
      "execution_count": 27,
      "outputs": []
    },
    {
      "cell_type": "code",
      "metadata": {
        "colab_type": "code",
        "id": "vDj5y0iEel6Z",
        "colab": {
          "base_uri": "https://localhost:8080/",
          "height": 215
        },
        "outputId": "875a23e7-1049-439f-df66-cf898984eba7"
      },
      "source": [
        "X.head()"
      ],
      "execution_count": 28,
      "outputs": [
        {
          "output_type": "execute_result",
          "data": {
            "text/html": [
              "<div>\n",
              "<style scoped>\n",
              "    .dataframe tbody tr th:only-of-type {\n",
              "        vertical-align: middle;\n",
              "    }\n",
              "\n",
              "    .dataframe tbody tr th {\n",
              "        vertical-align: top;\n",
              "    }\n",
              "\n",
              "    .dataframe thead th {\n",
              "        text-align: right;\n",
              "    }\n",
              "</style>\n",
              "<table border=\"1\" class=\"dataframe\">\n",
              "  <thead>\n",
              "    <tr style=\"text-align: right;\">\n",
              "      <th></th>\n",
              "      <th>store_id</th>\n",
              "      <th>sku_id</th>\n",
              "      <th>count_id_store</th>\n",
              "      <th>count_id_sku_store</th>\n",
              "      <th>week_1</th>\n",
              "      <th>is_featured_sku</th>\n",
              "      <th>price_store_id</th>\n",
              "      <th>price_to_store_id</th>\n",
              "      <th>count_sku_store_id</th>\n",
              "      <th>week_num1</th>\n",
              "      <th>price_diff_percent</th>\n",
              "      <th>week_sin</th>\n",
              "      <th>price_to_sku_id</th>\n",
              "      <th>count_sku_id</th>\n",
              "      <th>is_display_sku</th>\n",
              "      <th>base_price</th>\n",
              "      <th>count_id_sku</th>\n",
              "      <th>week_cos</th>\n",
              "      <th>total_price</th>\n",
              "      <th>price_to_sku_store</th>\n",
              "      <th>price_sku_store</th>\n",
              "      <th>week_num</th>\n",
              "      <th>count_store_id</th>\n",
              "      <th>price_sku_id</th>\n",
              "    </tr>\n",
              "  </thead>\n",
              "  <tbody>\n",
              "    <tr>\n",
              "      <th>0</th>\n",
              "      <td>3.250779</td>\n",
              "      <td>4.201821</td>\n",
              "      <td>1170.0</td>\n",
              "      <td>130.0</td>\n",
              "      <td>1</td>\n",
              "      <td>0</td>\n",
              "      <td>181.312372</td>\n",
              "      <td>172.272756</td>\n",
              "      <td>26.376923</td>\n",
              "      <td>1</td>\n",
              "      <td>0.11465</td>\n",
              "      <td>0.120208</td>\n",
              "      <td>91.982702</td>\n",
              "      <td>88.923869</td>\n",
              "      <td>0</td>\n",
              "      <td>111.8625</td>\n",
              "      <td>8840.0</td>\n",
              "      <td>0.992749</td>\n",
              "      <td>99.0375</td>\n",
              "      <td>102.117692</td>\n",
              "      <td>105.800769</td>\n",
              "      <td>1</td>\n",
              "      <td>32.805983</td>\n",
              "      <td>94.688268</td>\n",
              "    </tr>\n",
              "    <tr>\n",
              "      <th>1</th>\n",
              "      <td>3.250779</td>\n",
              "      <td>4.051982</td>\n",
              "      <td>1170.0</td>\n",
              "      <td>130.0</td>\n",
              "      <td>1</td>\n",
              "      <td>0</td>\n",
              "      <td>181.312372</td>\n",
              "      <td>172.272756</td>\n",
              "      <td>28.307692</td>\n",
              "      <td>1</td>\n",
              "      <td>0.00000</td>\n",
              "      <td>0.120208</td>\n",
              "      <td>92.349162</td>\n",
              "      <td>72.182664</td>\n",
              "      <td>0</td>\n",
              "      <td>99.0375</td>\n",
              "      <td>8710.0</td>\n",
              "      <td>0.992749</td>\n",
              "      <td>99.0375</td>\n",
              "      <td>102.473942</td>\n",
              "      <td>105.839135</td>\n",
              "      <td>1</td>\n",
              "      <td>32.805983</td>\n",
              "      <td>94.908763</td>\n",
              "    </tr>\n",
              "    <tr>\n",
              "      <th>2</th>\n",
              "      <td>3.250779</td>\n",
              "      <td>3.303344</td>\n",
              "      <td>1170.0</td>\n",
              "      <td>130.0</td>\n",
              "      <td>1</td>\n",
              "      <td>0</td>\n",
              "      <td>181.312372</td>\n",
              "      <td>172.272756</td>\n",
              "      <td>25.669231</td>\n",
              "      <td>1</td>\n",
              "      <td>0.00000</td>\n",
              "      <td>0.120208</td>\n",
              "      <td>125.156355</td>\n",
              "      <td>34.019231</td>\n",
              "      <td>0</td>\n",
              "      <td>133.9500</td>\n",
              "      <td>8580.0</td>\n",
              "      <td>0.992749</td>\n",
              "      <td>133.9500</td>\n",
              "      <td>126.671538</td>\n",
              "      <td>131.204135</td>\n",
              "      <td>1</td>\n",
              "      <td>32.805983</td>\n",
              "      <td>128.285210</td>\n",
              "    </tr>\n",
              "    <tr>\n",
              "      <th>3</th>\n",
              "      <td>3.250779</td>\n",
              "      <td>3.715659</td>\n",
              "      <td>1170.0</td>\n",
              "      <td>130.0</td>\n",
              "      <td>1</td>\n",
              "      <td>0</td>\n",
              "      <td>181.312372</td>\n",
              "      <td>172.272756</td>\n",
              "      <td>29.107692</td>\n",
              "      <td>1</td>\n",
              "      <td>0.00000</td>\n",
              "      <td>0.120208</td>\n",
              "      <td>124.942208</td>\n",
              "      <td>46.821206</td>\n",
              "      <td>0</td>\n",
              "      <td>133.9500</td>\n",
              "      <td>9620.0</td>\n",
              "      <td>0.992749</td>\n",
              "      <td>133.9500</td>\n",
              "      <td>126.167308</td>\n",
              "      <td>129.916154</td>\n",
              "      <td>1</td>\n",
              "      <td>32.805983</td>\n",
              "      <td>128.101871</td>\n",
              "    </tr>\n",
              "    <tr>\n",
              "      <th>4</th>\n",
              "      <td>3.250779</td>\n",
              "      <td>3.850743</td>\n",
              "      <td>1170.0</td>\n",
              "      <td>130.0</td>\n",
              "      <td>1</td>\n",
              "      <td>0</td>\n",
              "      <td>181.312372</td>\n",
              "      <td>172.272756</td>\n",
              "      <td>29.469231</td>\n",
              "      <td>1</td>\n",
              "      <td>0.00000</td>\n",
              "      <td>0.120208</td>\n",
              "      <td>150.867334</td>\n",
              "      <td>62.312747</td>\n",
              "      <td>0</td>\n",
              "      <td>141.0750</td>\n",
              "      <td>9100.0</td>\n",
              "      <td>0.992749</td>\n",
              "      <td>141.0750</td>\n",
              "      <td>152.968269</td>\n",
              "      <td>164.439519</td>\n",
              "      <td>1</td>\n",
              "      <td>32.805983</td>\n",
              "      <td>158.990538</td>\n",
              "    </tr>\n",
              "  </tbody>\n",
              "</table>\n",
              "</div>"
            ],
            "text/plain": [
              "   store_id    sku_id  count_id_store  ...  week_num  count_store_id  price_sku_id\n",
              "0  3.250779  4.201821          1170.0  ...         1       32.805983     94.688268\n",
              "1  3.250779  4.051982          1170.0  ...         1       32.805983     94.908763\n",
              "2  3.250779  3.303344          1170.0  ...         1       32.805983    128.285210\n",
              "3  3.250779  3.715659          1170.0  ...         1       32.805983    128.101871\n",
              "4  3.250779  3.850743          1170.0  ...         1       32.805983    158.990538\n",
              "\n",
              "[5 rows x 24 columns]"
            ]
          },
          "metadata": {
            "tags": []
          },
          "execution_count": 28
        }
      ]
    },
    {
      "cell_type": "code",
      "metadata": {
        "colab_type": "code",
        "id": "sP_swafMemt2",
        "colab": {
          "base_uri": "https://localhost:8080/",
          "height": 215
        },
        "outputId": "9542bea0-ea1e-41ec-d77a-2aa682613a19"
      },
      "source": [
        "X_test.head()"
      ],
      "execution_count": 29,
      "outputs": [
        {
          "output_type": "execute_result",
          "data": {
            "text/html": [
              "<div>\n",
              "<style scoped>\n",
              "    .dataframe tbody tr th:only-of-type {\n",
              "        vertical-align: middle;\n",
              "    }\n",
              "\n",
              "    .dataframe tbody tr th {\n",
              "        vertical-align: top;\n",
              "    }\n",
              "\n",
              "    .dataframe thead th {\n",
              "        text-align: right;\n",
              "    }\n",
              "</style>\n",
              "<table border=\"1\" class=\"dataframe\">\n",
              "  <thead>\n",
              "    <tr style=\"text-align: right;\">\n",
              "      <th></th>\n",
              "      <th>store_id</th>\n",
              "      <th>sku_id</th>\n",
              "      <th>count_id_store</th>\n",
              "      <th>count_id_sku_store</th>\n",
              "      <th>week_1</th>\n",
              "      <th>is_featured_sku</th>\n",
              "      <th>price_store_id</th>\n",
              "      <th>price_to_store_id</th>\n",
              "      <th>count_sku_store_id</th>\n",
              "      <th>week_num1</th>\n",
              "      <th>price_diff_percent</th>\n",
              "      <th>week_sin</th>\n",
              "      <th>price_to_sku_id</th>\n",
              "      <th>count_sku_id</th>\n",
              "      <th>is_display_sku</th>\n",
              "      <th>base_price</th>\n",
              "      <th>count_id_sku</th>\n",
              "      <th>week_cos</th>\n",
              "      <th>total_price</th>\n",
              "      <th>price_to_sku_store</th>\n",
              "      <th>price_sku_store</th>\n",
              "      <th>week_num</th>\n",
              "      <th>count_store_id</th>\n",
              "      <th>price_sku_id</th>\n",
              "    </tr>\n",
              "  </thead>\n",
              "  <tbody>\n",
              "    <tr>\n",
              "      <th>0</th>\n",
              "      <td>3.250779</td>\n",
              "      <td>4.201821</td>\n",
              "      <td>1170.0</td>\n",
              "      <td>130.0</td>\n",
              "      <td>131</td>\n",
              "      <td>0</td>\n",
              "      <td>181.312372</td>\n",
              "      <td>172.272756</td>\n",
              "      <td>26.376923</td>\n",
              "      <td>3</td>\n",
              "      <td>0.0</td>\n",
              "      <td>-0.077343</td>\n",
              "      <td>91.982702</td>\n",
              "      <td>88.923869</td>\n",
              "      <td>0</td>\n",
              "      <td>108.3000</td>\n",
              "      <td>8840.0</td>\n",
              "      <td>-0.997005</td>\n",
              "      <td>108.3000</td>\n",
              "      <td>102.117692</td>\n",
              "      <td>105.800769</td>\n",
              "      <td>27</td>\n",
              "      <td>32.805983</td>\n",
              "      <td>94.688268</td>\n",
              "    </tr>\n",
              "    <tr>\n",
              "      <th>1</th>\n",
              "      <td>3.250779</td>\n",
              "      <td>4.051982</td>\n",
              "      <td>1170.0</td>\n",
              "      <td>130.0</td>\n",
              "      <td>131</td>\n",
              "      <td>0</td>\n",
              "      <td>181.312372</td>\n",
              "      <td>172.272756</td>\n",
              "      <td>28.307692</td>\n",
              "      <td>3</td>\n",
              "      <td>0.0</td>\n",
              "      <td>-0.077343</td>\n",
              "      <td>92.349162</td>\n",
              "      <td>72.182664</td>\n",
              "      <td>0</td>\n",
              "      <td>109.0125</td>\n",
              "      <td>8710.0</td>\n",
              "      <td>-0.997005</td>\n",
              "      <td>109.0125</td>\n",
              "      <td>102.473942</td>\n",
              "      <td>105.839135</td>\n",
              "      <td>27</td>\n",
              "      <td>32.805983</td>\n",
              "      <td>94.908763</td>\n",
              "    </tr>\n",
              "    <tr>\n",
              "      <th>2</th>\n",
              "      <td>3.250779</td>\n",
              "      <td>3.303344</td>\n",
              "      <td>1170.0</td>\n",
              "      <td>130.0</td>\n",
              "      <td>131</td>\n",
              "      <td>0</td>\n",
              "      <td>181.312372</td>\n",
              "      <td>172.272756</td>\n",
              "      <td>25.669231</td>\n",
              "      <td>3</td>\n",
              "      <td>0.0</td>\n",
              "      <td>-0.077343</td>\n",
              "      <td>125.156355</td>\n",
              "      <td>34.019231</td>\n",
              "      <td>0</td>\n",
              "      <td>133.9500</td>\n",
              "      <td>8580.0</td>\n",
              "      <td>-0.997005</td>\n",
              "      <td>133.9500</td>\n",
              "      <td>126.671538</td>\n",
              "      <td>131.204135</td>\n",
              "      <td>27</td>\n",
              "      <td>32.805983</td>\n",
              "      <td>128.285210</td>\n",
              "    </tr>\n",
              "    <tr>\n",
              "      <th>3</th>\n",
              "      <td>3.250779</td>\n",
              "      <td>3.715659</td>\n",
              "      <td>1170.0</td>\n",
              "      <td>130.0</td>\n",
              "      <td>131</td>\n",
              "      <td>0</td>\n",
              "      <td>181.312372</td>\n",
              "      <td>172.272756</td>\n",
              "      <td>29.107692</td>\n",
              "      <td>3</td>\n",
              "      <td>0.0</td>\n",
              "      <td>-0.077343</td>\n",
              "      <td>124.942208</td>\n",
              "      <td>46.821206</td>\n",
              "      <td>0</td>\n",
              "      <td>133.9500</td>\n",
              "      <td>9620.0</td>\n",
              "      <td>-0.997005</td>\n",
              "      <td>133.9500</td>\n",
              "      <td>126.167308</td>\n",
              "      <td>129.916154</td>\n",
              "      <td>27</td>\n",
              "      <td>32.805983</td>\n",
              "      <td>128.101871</td>\n",
              "    </tr>\n",
              "    <tr>\n",
              "      <th>4</th>\n",
              "      <td>3.250779</td>\n",
              "      <td>3.850743</td>\n",
              "      <td>1170.0</td>\n",
              "      <td>130.0</td>\n",
              "      <td>131</td>\n",
              "      <td>0</td>\n",
              "      <td>181.312372</td>\n",
              "      <td>172.272756</td>\n",
              "      <td>29.469231</td>\n",
              "      <td>3</td>\n",
              "      <td>0.0</td>\n",
              "      <td>-0.077343</td>\n",
              "      <td>150.867334</td>\n",
              "      <td>62.312747</td>\n",
              "      <td>0</td>\n",
              "      <td>176.7000</td>\n",
              "      <td>9100.0</td>\n",
              "      <td>-0.997005</td>\n",
              "      <td>176.7000</td>\n",
              "      <td>152.968269</td>\n",
              "      <td>164.439519</td>\n",
              "      <td>27</td>\n",
              "      <td>32.805983</td>\n",
              "      <td>158.990538</td>\n",
              "    </tr>\n",
              "  </tbody>\n",
              "</table>\n",
              "</div>"
            ],
            "text/plain": [
              "   store_id    sku_id  count_id_store  ...  week_num  count_store_id  price_sku_id\n",
              "0  3.250779  4.201821          1170.0  ...        27       32.805983     94.688268\n",
              "1  3.250779  4.051982          1170.0  ...        27       32.805983     94.908763\n",
              "2  3.250779  3.303344          1170.0  ...        27       32.805983    128.285210\n",
              "3  3.250779  3.715659          1170.0  ...        27       32.805983    128.101871\n",
              "4  3.250779  3.850743          1170.0  ...        27       32.805983    158.990538\n",
              "\n",
              "[5 rows x 24 columns]"
            ]
          },
          "metadata": {
            "tags": []
          },
          "execution_count": 29
        }
      ]
    },
    {
      "cell_type": "markdown",
      "metadata": {
        "colab_type": "text",
        "id": "E030Zz08LjED"
      },
      "source": [
        "# Model Building"
      ]
    },
    {
      "cell_type": "code",
      "metadata": {
        "colab_type": "code",
        "id": "nPxMuh_8OKJZ",
        "colab": {
          "base_uri": "https://localhost:8080/",
          "height": 134
        },
        "outputId": "70a141ba-6b00-4795-9866-cb30f5d96b9c"
      },
      "source": [
        "X.columns"
      ],
      "execution_count": 30,
      "outputs": [
        {
          "output_type": "execute_result",
          "data": {
            "text/plain": [
              "Index(['store_id', 'sku_id', 'count_id_store', 'count_id_sku_store', 'week_1',\n",
              "       'is_featured_sku', 'price_store_id', 'price_to_store_id',\n",
              "       'count_sku_store_id', 'week_num1', 'price_diff_percent', 'week_sin',\n",
              "       'price_to_sku_id', 'count_sku_id', 'is_display_sku', 'base_price',\n",
              "       'count_id_sku', 'week_cos', 'total_price', 'price_to_sku_store',\n",
              "       'price_sku_store', 'week_num', 'count_store_id', 'price_sku_id'],\n",
              "      dtype='object')"
            ]
          },
          "metadata": {
            "tags": []
          },
          "execution_count": 30
        }
      ]
    },
    {
      "cell_type": "code",
      "metadata": {
        "colab_type": "code",
        "id": "foE05NTHSMb3",
        "colab": {}
      },
      "source": [
        "x_train, x_valid, y_train, y_valid = train_test_split(X, Y, test_size = 0.2,random_state=23)"
      ],
      "execution_count": 31,
      "outputs": []
    },
    {
      "cell_type": "code",
      "metadata": {
        "colab_type": "code",
        "id": "c9dfUWP714a-",
        "colab": {
          "base_uri": "https://localhost:8080/",
          "height": 34
        },
        "outputId": "314d5fe6-b075-4823-cdeb-b4b2876a4534"
      },
      "source": [
        "len(x_train.columns)"
      ],
      "execution_count": 32,
      "outputs": [
        {
          "output_type": "execute_result",
          "data": {
            "text/plain": [
              "24"
            ]
          },
          "metadata": {
            "tags": []
          },
          "execution_count": 32
        }
      ]
    },
    {
      "cell_type": "code",
      "metadata": {
        "id": "hMqGxounc1nD",
        "colab_type": "code",
        "colab": {
          "base_uri": "https://localhost:8080/",
          "height": 134
        },
        "outputId": "4712ba58-e4dd-4be2-a7eb-5475ab13063b"
      },
      "source": [
        "rf_base = RandomForestRegressor()\n",
        "rf_base.fit(x_train,y_train)\n",
        "\n",
        "\n",
        "rf_tuned = RandomForestRegressor(bootstrap=True, criterion='mse', max_depth=30,\n",
        "                      max_features='sqrt', max_leaf_nodes=None,\n",
        "                      min_impurity_decrease=0.0, min_impurity_split=None,\n",
        "                      min_samples_leaf=1, min_samples_split=10,\n",
        "                      min_weight_fraction_leaf=0.0, n_estimators=600,\n",
        "                      n_jobs=None, oob_score=True, random_state=None,\n",
        "                      verbose=0, warm_start=False)\n",
        "rf_tuned.fit(x_train,y_train)"
      ],
      "execution_count": 33,
      "outputs": [
        {
          "output_type": "execute_result",
          "data": {
            "text/plain": [
              "RandomForestRegressor(bootstrap=True, ccp_alpha=0.0, criterion='mse',\n",
              "                      max_depth=30, max_features='sqrt', max_leaf_nodes=None,\n",
              "                      max_samples=None, min_impurity_decrease=0.0,\n",
              "                      min_impurity_split=None, min_samples_leaf=1,\n",
              "                      min_samples_split=10, min_weight_fraction_leaf=0.0,\n",
              "                      n_estimators=600, n_jobs=None, oob_score=True,\n",
              "                      random_state=None, verbose=0, warm_start=False)"
            ]
          },
          "metadata": {
            "tags": []
          },
          "execution_count": 33
        }
      ]
    },
    {
      "cell_type": "code",
      "metadata": {
        "id": "oDKkhQHMc1nH",
        "colab_type": "code",
        "colab": {
          "base_uri": "https://localhost:8080/",
          "height": 151
        },
        "outputId": "05d2b4c1-a851-4f07-9af1-1885ac158da5"
      },
      "source": [
        "model_lgb_base=lgb.LGBMRegressor(objective='regression')\n",
        "model_lgb_base.fit(x_train,y_train)\n",
        "\n",
        "model_lgb_tuned=lgb.LGBMRegressor(bagging_fraction=0.8, bagging_frequency=4, boosting_type='gbdt',\n",
        "              class_weight=None, colsample_bytree=1.0, feature_fraction=0.5,\n",
        "              importance_type='split', learning_rate=0.1, max_depth=30,\n",
        "              min_child_samples=20, min_child_weight=30, min_data_in_leaf=70,\n",
        "              min_split_gain=0.0001, n_estimators=200, n_jobs=-1,\n",
        "              num_leaves=1200, objective=None, random_state=None, reg_alpha=0.0,\n",
        "              reg_lambda=0.0, silent=True, subsample=1.0,\n",
        "              subsample_for_bin=200000, subsample_freq=0)\n",
        "\n",
        "model_lgb_tuned.fit(x_train,y_train)"
      ],
      "execution_count": 34,
      "outputs": [
        {
          "output_type": "execute_result",
          "data": {
            "text/plain": [
              "LGBMRegressor(bagging_fraction=0.8, bagging_frequency=4, boosting_type='gbdt',\n",
              "              class_weight=None, colsample_bytree=1.0, feature_fraction=0.5,\n",
              "              importance_type='split', learning_rate=0.1, max_depth=30,\n",
              "              min_child_samples=20, min_child_weight=30, min_data_in_leaf=70,\n",
              "              min_split_gain=0.0001, n_estimators=200, n_jobs=-1,\n",
              "              num_leaves=1200, objective=None, random_state=None, reg_alpha=0.0,\n",
              "              reg_lambda=0.0, silent=True, subsample=1.0,\n",
              "              subsample_for_bin=200000, subsample_freq=0)"
            ]
          },
          "metadata": {
            "tags": []
          },
          "execution_count": 34
        }
      ]
    },
    {
      "cell_type": "code",
      "metadata": {
        "id": "xsvpRcWfc1nI",
        "colab_type": "code",
        "colab": {
          "base_uri": "https://localhost:8080/",
          "height": 67
        },
        "outputId": "b4e9cec7-6224-4439-de57-6e411a4db2ee"
      },
      "source": [
        "prediction_rfb_valid=rf_base.predict(x_valid)\n",
        "prediction_rft_valid=rf_tuned.predict(x_valid)\n",
        "prediction_lgbmb_valid=model_lgb_base.predict(x_valid)\n",
        "prediction_lgbmt_valid=model_lgb_tuned.predict(x_valid)\n",
        "\n",
        "rf_base_msle=100*mean_squared_log_error(y_valid,prediction_rfb_valid)\n",
        "rf_tuned_msle=100*mean_squared_log_error(y_valid,prediction_rft_valid)\n",
        "lgbm_base_msle=100*mean_squared_log_error(y_valid,prediction_lgbmb_valid)\n",
        "lgbm_tuned_msle=100*mean_squared_log_error(y_valid,prediction_lgbmt_valid)\n",
        "\n",
        "prediction_ensemble_base=(((1-rf_base_msle)*prediction_rfb_valid)+((1-lgbm_base_msle)*prediction_lgbmb_valid))/(2-rf_base_msle-lgbm_base_msle)\n",
        "prediction_ensemble_tuned=(((1-rf_tuned_msle)*prediction_rft_valid)+((1-lgbm_tuned_msle)*prediction_lgbmt_valid))/(2-rf_tuned_msle-lgbm_tuned_msle)\n",
        "\n",
        "ensemble_base_msle=100*mean_squared_log_error(y_valid,prediction_ensemble_base)\n",
        "ensemble_tuned_msle=100*mean_squared_log_error(y_valid,prediction_ensemble_tuned)\n",
        "\n",
        "\n",
        "print(\"RF Base: {}; RF Tuned: {}\".format(rf_base_msle,rf_tuned_msle))\n",
        "print(\"LGBM Base: {}; LGBM Tuned: {}\".format(lgbm_base_msle,lgbm_tuned_msle))\n",
        "print(\"Ensemble Base: {}; Ensemble Tuned: {}\".format(ensemble_base_msle,ensemble_tuned_msle))"
      ],
      "execution_count": 35,
      "outputs": [
        {
          "output_type": "stream",
          "text": [
            "RF Base: 0.8342987367398164; RF Tuned: 0.8484082177813135\n",
            "LGBM Base: 0.9018330274446573; LGBM Tuned: 0.7321971492038865\n",
            "Ensemble Base: 0.8151712987896794; Ensemble Tuned: 0.7477485765001536\n"
          ],
          "name": "stdout"
        }
      ]
    },
    {
      "cell_type": "code",
      "metadata": {
        "id": "MiE3xTjec1nK",
        "colab_type": "code",
        "colab": {
          "base_uri": "https://localhost:8080/",
          "height": 151
        },
        "outputId": "59a2a033-3356-4295-f719-f9c20c0d0c37"
      },
      "source": [
        "model = lgb.LGBMRegressor(bagging_fraction=0.8, bagging_frequency=4, boosting_type='gbdt',\n",
        "              class_weight=None, colsample_bytree=1.0, feature_fraction=0.5,\n",
        "              importance_type='split', learning_rate=0.1, max_depth=30,\n",
        "              min_child_samples=20, min_child_weight=30, min_data_in_leaf=70,\n",
        "              min_split_gain=0.0001, n_estimators=100, n_jobs=-1,\n",
        "              num_leaves=1400, objective=None, random_state=None, reg_alpha=0.0,\n",
        "              reg_lambda=0.0, silent=True, subsample=1.0,\n",
        "              subsample_for_bin=200000, subsample_freq=0)\n",
        "\n",
        "model.fit(X,Y)"
      ],
      "execution_count": 36,
      "outputs": [
        {
          "output_type": "execute_result",
          "data": {
            "text/plain": [
              "LGBMRegressor(bagging_fraction=0.8, bagging_frequency=4, boosting_type='gbdt',\n",
              "              class_weight=None, colsample_bytree=1.0, feature_fraction=0.5,\n",
              "              importance_type='split', learning_rate=0.1, max_depth=30,\n",
              "              min_child_samples=20, min_child_weight=30, min_data_in_leaf=70,\n",
              "              min_split_gain=0.0001, n_estimators=100, n_jobs=-1,\n",
              "              num_leaves=1400, objective=None, random_state=None, reg_alpha=0.0,\n",
              "              reg_lambda=0.0, silent=True, subsample=1.0,\n",
              "              subsample_for_bin=200000, subsample_freq=0)"
            ]
          },
          "metadata": {
            "tags": []
          },
          "execution_count": 36
        }
      ]
    },
    {
      "cell_type": "markdown",
      "metadata": {
        "id": "6wDesug-c1nL",
        "colab_type": "text"
      },
      "source": [
        "# Final Submission "
      ]
    },
    {
      "cell_type": "code",
      "metadata": {
        "id": "yOOG-VUHc1nM",
        "colab_type": "code",
        "colab": {
          "base_uri": "https://localhost:8080/",
          "height": 215
        },
        "outputId": "191bcd76-7451-4633-a42b-9e3400bd4bd5"
      },
      "source": [
        "X_test.head()"
      ],
      "execution_count": 37,
      "outputs": [
        {
          "output_type": "execute_result",
          "data": {
            "text/html": [
              "<div>\n",
              "<style scoped>\n",
              "    .dataframe tbody tr th:only-of-type {\n",
              "        vertical-align: middle;\n",
              "    }\n",
              "\n",
              "    .dataframe tbody tr th {\n",
              "        vertical-align: top;\n",
              "    }\n",
              "\n",
              "    .dataframe thead th {\n",
              "        text-align: right;\n",
              "    }\n",
              "</style>\n",
              "<table border=\"1\" class=\"dataframe\">\n",
              "  <thead>\n",
              "    <tr style=\"text-align: right;\">\n",
              "      <th></th>\n",
              "      <th>store_id</th>\n",
              "      <th>sku_id</th>\n",
              "      <th>count_id_store</th>\n",
              "      <th>count_id_sku_store</th>\n",
              "      <th>week_1</th>\n",
              "      <th>is_featured_sku</th>\n",
              "      <th>price_store_id</th>\n",
              "      <th>price_to_store_id</th>\n",
              "      <th>count_sku_store_id</th>\n",
              "      <th>week_num1</th>\n",
              "      <th>price_diff_percent</th>\n",
              "      <th>week_sin</th>\n",
              "      <th>price_to_sku_id</th>\n",
              "      <th>count_sku_id</th>\n",
              "      <th>is_display_sku</th>\n",
              "      <th>base_price</th>\n",
              "      <th>count_id_sku</th>\n",
              "      <th>week_cos</th>\n",
              "      <th>total_price</th>\n",
              "      <th>price_to_sku_store</th>\n",
              "      <th>price_sku_store</th>\n",
              "      <th>week_num</th>\n",
              "      <th>count_store_id</th>\n",
              "      <th>price_sku_id</th>\n",
              "    </tr>\n",
              "  </thead>\n",
              "  <tbody>\n",
              "    <tr>\n",
              "      <th>0</th>\n",
              "      <td>3.250779</td>\n",
              "      <td>4.201821</td>\n",
              "      <td>1170.0</td>\n",
              "      <td>130.0</td>\n",
              "      <td>131</td>\n",
              "      <td>0</td>\n",
              "      <td>181.312372</td>\n",
              "      <td>172.272756</td>\n",
              "      <td>26.376923</td>\n",
              "      <td>3</td>\n",
              "      <td>0.0</td>\n",
              "      <td>-0.077343</td>\n",
              "      <td>91.982702</td>\n",
              "      <td>88.923869</td>\n",
              "      <td>0</td>\n",
              "      <td>108.3000</td>\n",
              "      <td>8840.0</td>\n",
              "      <td>-0.997005</td>\n",
              "      <td>108.3000</td>\n",
              "      <td>102.117692</td>\n",
              "      <td>105.800769</td>\n",
              "      <td>27</td>\n",
              "      <td>32.805983</td>\n",
              "      <td>94.688268</td>\n",
              "    </tr>\n",
              "    <tr>\n",
              "      <th>1</th>\n",
              "      <td>3.250779</td>\n",
              "      <td>4.051982</td>\n",
              "      <td>1170.0</td>\n",
              "      <td>130.0</td>\n",
              "      <td>131</td>\n",
              "      <td>0</td>\n",
              "      <td>181.312372</td>\n",
              "      <td>172.272756</td>\n",
              "      <td>28.307692</td>\n",
              "      <td>3</td>\n",
              "      <td>0.0</td>\n",
              "      <td>-0.077343</td>\n",
              "      <td>92.349162</td>\n",
              "      <td>72.182664</td>\n",
              "      <td>0</td>\n",
              "      <td>109.0125</td>\n",
              "      <td>8710.0</td>\n",
              "      <td>-0.997005</td>\n",
              "      <td>109.0125</td>\n",
              "      <td>102.473942</td>\n",
              "      <td>105.839135</td>\n",
              "      <td>27</td>\n",
              "      <td>32.805983</td>\n",
              "      <td>94.908763</td>\n",
              "    </tr>\n",
              "    <tr>\n",
              "      <th>2</th>\n",
              "      <td>3.250779</td>\n",
              "      <td>3.303344</td>\n",
              "      <td>1170.0</td>\n",
              "      <td>130.0</td>\n",
              "      <td>131</td>\n",
              "      <td>0</td>\n",
              "      <td>181.312372</td>\n",
              "      <td>172.272756</td>\n",
              "      <td>25.669231</td>\n",
              "      <td>3</td>\n",
              "      <td>0.0</td>\n",
              "      <td>-0.077343</td>\n",
              "      <td>125.156355</td>\n",
              "      <td>34.019231</td>\n",
              "      <td>0</td>\n",
              "      <td>133.9500</td>\n",
              "      <td>8580.0</td>\n",
              "      <td>-0.997005</td>\n",
              "      <td>133.9500</td>\n",
              "      <td>126.671538</td>\n",
              "      <td>131.204135</td>\n",
              "      <td>27</td>\n",
              "      <td>32.805983</td>\n",
              "      <td>128.285210</td>\n",
              "    </tr>\n",
              "    <tr>\n",
              "      <th>3</th>\n",
              "      <td>3.250779</td>\n",
              "      <td>3.715659</td>\n",
              "      <td>1170.0</td>\n",
              "      <td>130.0</td>\n",
              "      <td>131</td>\n",
              "      <td>0</td>\n",
              "      <td>181.312372</td>\n",
              "      <td>172.272756</td>\n",
              "      <td>29.107692</td>\n",
              "      <td>3</td>\n",
              "      <td>0.0</td>\n",
              "      <td>-0.077343</td>\n",
              "      <td>124.942208</td>\n",
              "      <td>46.821206</td>\n",
              "      <td>0</td>\n",
              "      <td>133.9500</td>\n",
              "      <td>9620.0</td>\n",
              "      <td>-0.997005</td>\n",
              "      <td>133.9500</td>\n",
              "      <td>126.167308</td>\n",
              "      <td>129.916154</td>\n",
              "      <td>27</td>\n",
              "      <td>32.805983</td>\n",
              "      <td>128.101871</td>\n",
              "    </tr>\n",
              "    <tr>\n",
              "      <th>4</th>\n",
              "      <td>3.250779</td>\n",
              "      <td>3.850743</td>\n",
              "      <td>1170.0</td>\n",
              "      <td>130.0</td>\n",
              "      <td>131</td>\n",
              "      <td>0</td>\n",
              "      <td>181.312372</td>\n",
              "      <td>172.272756</td>\n",
              "      <td>29.469231</td>\n",
              "      <td>3</td>\n",
              "      <td>0.0</td>\n",
              "      <td>-0.077343</td>\n",
              "      <td>150.867334</td>\n",
              "      <td>62.312747</td>\n",
              "      <td>0</td>\n",
              "      <td>176.7000</td>\n",
              "      <td>9100.0</td>\n",
              "      <td>-0.997005</td>\n",
              "      <td>176.7000</td>\n",
              "      <td>152.968269</td>\n",
              "      <td>164.439519</td>\n",
              "      <td>27</td>\n",
              "      <td>32.805983</td>\n",
              "      <td>158.990538</td>\n",
              "    </tr>\n",
              "  </tbody>\n",
              "</table>\n",
              "</div>"
            ],
            "text/plain": [
              "   store_id    sku_id  count_id_store  ...  week_num  count_store_id  price_sku_id\n",
              "0  3.250779  4.201821          1170.0  ...        27       32.805983     94.688268\n",
              "1  3.250779  4.051982          1170.0  ...        27       32.805983     94.908763\n",
              "2  3.250779  3.303344          1170.0  ...        27       32.805983    128.285210\n",
              "3  3.250779  3.715659          1170.0  ...        27       32.805983    128.101871\n",
              "4  3.250779  3.850743          1170.0  ...        27       32.805983    158.990538\n",
              "\n",
              "[5 rows x 24 columns]"
            ]
          },
          "metadata": {
            "tags": []
          },
          "execution_count": 37
        }
      ]
    },
    {
      "cell_type": "code",
      "metadata": {
        "colab_type": "code",
        "id": "q22bMPXTns5q",
        "colab": {}
      },
      "source": [
        "prediction=model.predict(X_test) "
      ],
      "execution_count": 38,
      "outputs": []
    },
    {
      "cell_type": "code",
      "metadata": {
        "colab_type": "code",
        "id": "Zo1T3nw-yZCI",
        "colab": {}
      },
      "source": [
        "final_prediction=np.round(np.expm1(prediction))\n",
        "submission['units_sold']=final_prediction"
      ],
      "execution_count": 39,
      "outputs": []
    },
    {
      "cell_type": "code",
      "metadata": {
        "colab_type": "code",
        "id": "7MBrEPKezqPX",
        "colab": {
          "base_uri": "https://localhost:8080/",
          "height": 195
        },
        "outputId": "158d1edd-23b5-4deb-fc3f-f5602f4d6920"
      },
      "source": [
        "submission.head()"
      ],
      "execution_count": 40,
      "outputs": [
        {
          "output_type": "execute_result",
          "data": {
            "text/html": [
              "<div>\n",
              "<style scoped>\n",
              "    .dataframe tbody tr th:only-of-type {\n",
              "        vertical-align: middle;\n",
              "    }\n",
              "\n",
              "    .dataframe tbody tr th {\n",
              "        vertical-align: top;\n",
              "    }\n",
              "\n",
              "    .dataframe thead th {\n",
              "        text-align: right;\n",
              "    }\n",
              "</style>\n",
              "<table border=\"1\" class=\"dataframe\">\n",
              "  <thead>\n",
              "    <tr style=\"text-align: right;\">\n",
              "      <th></th>\n",
              "      <th>record_ID</th>\n",
              "      <th>units_sold</th>\n",
              "    </tr>\n",
              "  </thead>\n",
              "  <tbody>\n",
              "    <tr>\n",
              "      <th>0</th>\n",
              "      <td>212645</td>\n",
              "      <td>17.0</td>\n",
              "    </tr>\n",
              "    <tr>\n",
              "      <th>1</th>\n",
              "      <td>212646</td>\n",
              "      <td>19.0</td>\n",
              "    </tr>\n",
              "    <tr>\n",
              "      <th>2</th>\n",
              "      <td>212647</td>\n",
              "      <td>28.0</td>\n",
              "    </tr>\n",
              "    <tr>\n",
              "      <th>3</th>\n",
              "      <td>212648</td>\n",
              "      <td>30.0</td>\n",
              "    </tr>\n",
              "    <tr>\n",
              "      <th>4</th>\n",
              "      <td>212649</td>\n",
              "      <td>21.0</td>\n",
              "    </tr>\n",
              "  </tbody>\n",
              "</table>\n",
              "</div>"
            ],
            "text/plain": [
              "   record_ID  units_sold\n",
              "0     212645        17.0\n",
              "1     212646        19.0\n",
              "2     212647        28.0\n",
              "3     212648        30.0\n",
              "4     212649        21.0"
            ]
          },
          "metadata": {
            "tags": []
          },
          "execution_count": 40
        }
      ]
    },
    {
      "cell_type": "code",
      "metadata": {
        "colab_type": "code",
        "id": "ZiKc2D6Jzv5b",
        "colab": {}
      },
      "source": [
        "submission.to_csv('final.csv',index=False)"
      ],
      "execution_count": 42,
      "outputs": []
    }
  ]
}